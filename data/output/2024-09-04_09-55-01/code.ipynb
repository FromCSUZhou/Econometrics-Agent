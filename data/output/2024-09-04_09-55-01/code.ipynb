{
 "cells": [
  {
   "cell_type": "code",
   "execution_count": 1,
   "id": "ec610ae1",
   "metadata": {
    "execution": {
     "iopub.execute_input": "2024-09-04T01:54:33.674652Z",
     "iopub.status.busy": "2024-09-04T01:54:33.673460Z",
     "iopub.status.idle": "2024-09-04T01:54:35.413792Z",
     "shell.execute_reply": "2024-09-04T01:54:35.413123Z"
    }
   },
   "outputs": [
    {
     "ename": "ImportError",
     "evalue": "\n`load_boston` has been removed from scikit-learn since version 1.2.\n\nThe Boston housing prices dataset has an ethical problem: as\ninvestigated in [1], the authors of this dataset engineered a\nnon-invertible variable \"B\" assuming that racial self-segregation had a\npositive impact on house prices [2]. Furthermore the goal of the\nresearch that led to the creation of this dataset was to study the\nimpact of air quality but it did not give adequate demonstration of the\nvalidity of this assumption.\n\nThe scikit-learn maintainers therefore strongly discourage the use of\nthis dataset unless the purpose of the code is to study and educate\nabout ethical issues in data science and machine learning.\n\nIn this special case, you can fetch the dataset from the original\nsource::\n\n    import pandas as pd\n    import numpy as np\n\n    data_url = \"http://lib.stat.cmu.edu/datasets/boston\"\n    raw_df = pd.read_csv(data_url, sep=\"\\s+\", skiprows=22, header=None)\n    data = np.hstack([raw_df.values[::2, :], raw_df.values[1::2, :2]])\n    target = raw_df.values[1::2, 2]\n\nAlternative datasets include the California housing dataset and the\nAmes housing dataset. You can load the datasets as follows::\n\n    from sklearn.datasets import fetch_california_housing\n    housing = fetch_california_housing()\n\nfor the California housing dataset and::\n\n    from sklearn.datasets import fetch_openml\n    housing = fetch_openml(name=\"house_prices\", as_frame=True)\n\nfor the Ames housing dataset.\n\n[1] M Carlisle.\n\"Racist data destruction?\"\n<https://medium.com/@docintangible/racist-data-destruction-113e3eff54a8>\n\n[2] Harrison Jr, David, and Daniel L. Rubinfeld.\n\"Hedonic housing prices and the demand for clean air.\"\nJournal of environmental economics and management 5.1 (1978): 81-102.\n<https://www.researchgate.net/publication/4974606_Hedonic_housing_prices_and_the_demand_for_clean_air>\n",
     "output_type": "error",
     "traceback": [
      "\u001b[0;31m---------------------------------------------------------------------------\u001b[0m",
      "\u001b[0;31mImportError\u001b[0m                               Traceback (most recent call last)",
      "Cell \u001b[0;32mIn[1], line 7\u001b[0m\n\u001b[1;32m      5\u001b[0m \u001b[38;5;28;01mfrom\u001b[39;00m \u001b[38;5;21;01mpathlib\u001b[39;00m \u001b[38;5;28;01mimport\u001b[39;00m Path\n\u001b[1;32m      6\u001b[0m \u001b[38;5;28;01mimport\u001b[39;00m \u001b[38;5;21;01mtime\u001b[39;00m\n\u001b[0;32m----> 7\u001b[0m \u001b[38;5;28;01mfrom\u001b[39;00m \u001b[38;5;21;01msklearn\u001b[39;00m\u001b[38;5;21;01m.\u001b[39;00m\u001b[38;5;21;01mdatasets\u001b[39;00m \u001b[38;5;28;01mimport\u001b[39;00m load_boston\n\u001b[1;32m      9\u001b[0m \u001b[38;5;66;03m# Load the Boston house price dataset\u001b[39;00m\n\u001b[1;32m     10\u001b[0m boston \u001b[38;5;241m=\u001b[39m load_boston()\n",
      "File \u001b[0;32m~/opt/anaconda3/envs/chatpilot/lib/python3.10/site-packages/sklearn/datasets/__init__.py:157\u001b[0m, in \u001b[0;36m__getattr__\u001b[0;34m(name)\u001b[0m\n\u001b[1;32m    108\u001b[0m \u001b[38;5;28;01mif\u001b[39;00m name \u001b[38;5;241m==\u001b[39m \u001b[38;5;124m\"\u001b[39m\u001b[38;5;124mload_boston\u001b[39m\u001b[38;5;124m\"\u001b[39m:\n\u001b[1;32m    109\u001b[0m     msg \u001b[38;5;241m=\u001b[39m textwrap\u001b[38;5;241m.\u001b[39mdedent(\u001b[38;5;124m\"\"\"\u001b[39m\n\u001b[1;32m    110\u001b[0m \u001b[38;5;124m        `load_boston` has been removed from scikit-learn since version 1.2.\u001b[39m\n\u001b[1;32m    111\u001b[0m \n\u001b[0;32m   (...)\u001b[0m\n\u001b[1;32m    155\u001b[0m \u001b[38;5;124m        <https://www.researchgate.net/publication/4974606_Hedonic_housing_prices_and_the_demand_for_clean_air>\u001b[39m\n\u001b[1;32m    156\u001b[0m \u001b[38;5;124m        \u001b[39m\u001b[38;5;124m\"\"\"\u001b[39m)\n\u001b[0;32m--> 157\u001b[0m     \u001b[38;5;28;01mraise\u001b[39;00m \u001b[38;5;167;01mImportError\u001b[39;00m(msg)\n\u001b[1;32m    158\u001b[0m \u001b[38;5;28;01mtry\u001b[39;00m:\n\u001b[1;32m    159\u001b[0m     \u001b[38;5;28;01mreturn\u001b[39;00m \u001b[38;5;28mglobals\u001b[39m()[name]\n",
      "\u001b[0;31mImportError\u001b[0m: \n`load_boston` has been removed from scikit-learn since version 1.2.\n\nThe Boston housing prices dataset has an ethical problem: as\ninvestigated in [1], the authors of this dataset engineered a\nnon-invertible variable \"B\" assuming that racial self-segregation had a\npositive impact on house prices [2]. Furthermore the goal of the\nresearch that led to the creation of this dataset was to study the\nimpact of air quality but it did not give adequate demonstration of the\nvalidity of this assumption.\n\nThe scikit-learn maintainers therefore strongly discourage the use of\nthis dataset unless the purpose of the code is to study and educate\nabout ethical issues in data science and machine learning.\n\nIn this special case, you can fetch the dataset from the original\nsource::\n\n    import pandas as pd\n    import numpy as np\n\n    data_url = \"http://lib.stat.cmu.edu/datasets/boston\"\n    raw_df = pd.read_csv(data_url, sep=\"\\s+\", skiprows=22, header=None)\n    data = np.hstack([raw_df.values[::2, :], raw_df.values[1::2, :2]])\n    target = raw_df.values[1::2, 2]\n\nAlternative datasets include the California housing dataset and the\nAmes housing dataset. You can load the datasets as follows::\n\n    from sklearn.datasets import fetch_california_housing\n    housing = fetch_california_housing()\n\nfor the California housing dataset and::\n\n    from sklearn.datasets import fetch_openml\n    housing = fetch_openml(name=\"house_prices\", as_frame=True)\n\nfor the Ames housing dataset.\n\n[1] M Carlisle.\n\"Racist data destruction?\"\n<https://medium.com/@docintangible/racist-data-destruction-113e3eff54a8>\n\n[2] Harrison Jr, David, and Daniel L. Rubinfeld.\n\"Hedonic housing prices and the demand for clean air.\"\nJournal of environmental economics and management 5.1 (1978): 81-102.\n<https://www.researchgate.net/publication/4974606_Hedonic_housing_prices_and_the_demand_for_clean_air>\n"
     ]
    }
   ],
   "source": [
    "import pandas as pd\n",
    "import numpy as np\n",
    "import seaborn as sns\n",
    "import matplotlib.pyplot as plt\n",
    "from pathlib import Path\n",
    "import time\n",
    "from sklearn.datasets import load_boston\n",
    "\n",
    "# Load the Boston house price dataset\n",
    "boston = load_boston()\n",
    "df = pd.DataFrame(boston.data, columns=boston.feature_names)\n",
    "df['PRICE'] = boston.target\n",
    "\n",
    "# Distinguish column types\n",
    "numeric_cols = df.select_dtypes(include=[np.number]).columns.tolist()\n",
    "categorical_cols = df.select_dtypes(exclude=[np.number]).columns.tolist()\n",
    "\n",
    "# Display basic statistics for numeric columns\n",
    "numeric_stats = df[numeric_cols].describe()\n",
    "\n",
    "# Correlation matrix for numeric columns\n",
    "correlation_matrix = df[numeric_cols].corr()\n",
    "\n",
    "# Save correlation matrix heatmap\n",
    "timestamp = int(time.time())\n",
    "save_dir = Path(\"/Users/tuozhou/Desktop/RA/SZRI/ML_Assistant/data/output/image\")\n",
    "save_dir.mkdir(parents=True, exist_ok=True)\n",
    "file_name = f'correlation_matrix_{timestamp}.png'\n",
    "file_path = save_dir / file_name\n",
    "plt.figure(figsize=(12, 8))\n",
    "sns.heatmap(correlation_matrix, annot=True, cmap='coolwarm', fmt='.2f')\n",
    "plt.title('Correlation Matrix')\n",
    "plt.savefig(file_path)\n",
    "plt.clf()\n",
    "print(f'Image saved to: {file_path}')\n",
    "\n",
    "# Display the first few rows of the dataset\n",
    "df_head = df.head()\n",
    "\n",
    "# Output the results\n",
    "numeric_stats, df_head\n"
   ]
  },
  {
   "cell_type": "code",
   "execution_count": 2,
   "id": "2cb2549c",
   "metadata": {
    "execution": {
     "iopub.execute_input": "2024-09-04T01:54:41.258247Z",
     "iopub.status.busy": "2024-09-04T01:54:41.257855Z",
     "iopub.status.idle": "2024-09-04T01:54:41.565935Z",
     "shell.execute_reply": "2024-09-04T01:54:41.565584Z"
    }
   },
   "outputs": [
    {
     "name": "stdout",
     "output_type": "stream",
     "text": [
      "Image saved to: /Users/tuozhou/Desktop/RA/SZRI/ML_Assistant/data/output/image/correlation_matrix_1725414881.png\n"
     ]
    },
    {
     "data": {
      "text/plain": [
       "(             MedInc      HouseAge      AveRooms     AveBedrms    Population  \\\n",
       " count  20640.000000  20640.000000  20640.000000  20640.000000  20640.000000   \n",
       " mean       3.870671     28.639486      5.429000      1.096675   1425.476744   \n",
       " std        1.899822     12.585558      2.474173      0.473911   1132.462122   \n",
       " min        0.499900      1.000000      0.846154      0.333333      3.000000   \n",
       " 25%        2.563400     18.000000      4.440716      1.006079    787.000000   \n",
       " 50%        3.534800     29.000000      5.229129      1.048780   1166.000000   \n",
       " 75%        4.743250     37.000000      6.052381      1.099526   1725.000000   \n",
       " max       15.000100     52.000000    141.909091     34.066667  35682.000000   \n",
       " \n",
       "            AveOccup      Latitude     Longitude         PRICE  \n",
       " count  20640.000000  20640.000000  20640.000000  20640.000000  \n",
       " mean       3.070655     35.631861   -119.569704      2.068558  \n",
       " std       10.386050      2.135952      2.003532      1.153956  \n",
       " min        0.692308     32.540000   -124.350000      0.149990  \n",
       " 25%        2.429741     33.930000   -121.800000      1.196000  \n",
       " 50%        2.818116     34.260000   -118.490000      1.797000  \n",
       " 75%        3.282261     37.710000   -118.010000      2.647250  \n",
       " max     1243.333333     41.950000   -114.310000      5.000010  ,\n",
       "    MedInc  HouseAge  AveRooms  AveBedrms  Population  AveOccup  Latitude  \\\n",
       " 0  8.3252      41.0  6.984127   1.023810       322.0  2.555556     37.88   \n",
       " 1  8.3014      21.0  6.238137   0.971880      2401.0  2.109842     37.86   \n",
       " 2  7.2574      52.0  8.288136   1.073446       496.0  2.802260     37.85   \n",
       " 3  5.6431      52.0  5.817352   1.073059       558.0  2.547945     37.85   \n",
       " 4  3.8462      52.0  6.281853   1.081081       565.0  2.181467     37.85   \n",
       " \n",
       "    Longitude  PRICE  \n",
       " 0    -122.23  4.526  \n",
       " 1    -122.22  3.585  \n",
       " 2    -122.24  3.521  \n",
       " 3    -122.25  3.413  \n",
       " 4    -122.25  3.422  )"
      ]
     },
     "execution_count": 2,
     "metadata": {},
     "output_type": "execute_result"
    },
    {
     "data": {
      "text/plain": [
       "<Figure size 1200x800 with 0 Axes>"
      ]
     },
     "metadata": {},
     "output_type": "display_data"
    }
   ],
   "source": [
    "import pandas as pd\n",
    "import numpy as np\n",
    "import seaborn as sns\n",
    "import matplotlib.pyplot as plt\n",
    "from pathlib import Path\n",
    "import time\n",
    "from sklearn.datasets import fetch_california_housing\n",
    "\n",
    "# Load the California housing dataset\n",
    "housing = fetch_california_housing()\n",
    "df = pd.DataFrame(housing.data, columns=housing.feature_names)\n",
    "df['PRICE'] = housing.target\n",
    "\n",
    "# Distinguish column types\n",
    "numeric_cols = df.select_dtypes(include=[np.number]).columns.tolist()\n",
    "categorical_cols = df.select_dtypes(exclude=[np.number]).columns.tolist()\n",
    "\n",
    "# Display basic statistics for numeric columns\n",
    "numeric_stats = df[numeric_cols].describe()\n",
    "\n",
    "# Correlation matrix for numeric columns\n",
    "correlation_matrix = df[numeric_cols].corr()\n",
    "\n",
    "# Save correlation matrix heatmap\n",
    "timestamp = int(time.time())\n",
    "save_dir = Path(\"/Users/tuozhou/Desktop/RA/SZRI/ML_Assistant/data/output/image\")\n",
    "save_dir.mkdir(parents=True, exist_ok=True)\n",
    "file_name = f'correlation_matrix_{timestamp}.png'\n",
    "file_path = save_dir / file_name\n",
    "plt.figure(figsize=(12, 8))\n",
    "sns.heatmap(correlation_matrix, annot=True, cmap='coolwarm', fmt='.2f')\n",
    "plt.title('Correlation Matrix')\n",
    "plt.savefig(file_path)\n",
    "plt.clf()\n",
    "print(f'Image saved to: {file_path}')\n",
    "\n",
    "# Display the first few rows of the dataset\n",
    "df_head = df.head()\n",
    "\n",
    "# Output the results\n",
    "numeric_stats, df_head\n"
   ]
  },
  {
   "cell_type": "code",
   "execution_count": 3,
   "id": "45fc2d15",
   "metadata": {
    "execution": {
     "iopub.execute_input": "2024-09-04T01:54:44.293519Z",
     "iopub.status.busy": "2024-09-04T01:54:44.292058Z",
     "iopub.status.idle": "2024-09-04T01:54:45.224426Z",
     "shell.execute_reply": "2024-09-04T01:54:45.224091Z"
    }
   },
   "outputs": [
    {
     "name": "stderr",
     "output_type": "stream",
     "text": [
      "2024-09-04 09:54:44.481 | INFO     | metagpt.const:get_metagpt_package_root:21 - Package root set to /Users/tuozhou/Desktop/RA/SZRI/ChatPilot\n"
     ]
    },
    {
     "name": "stdout",
     "output_type": "stream",
     "text": [
      "column_info\n",
      "{'Category': [], 'Numeric': ['MedInc', 'HouseAge', 'AveRooms', 'AveBedrms', 'Population', 'AveOccup', 'Latitude', 'Longitude', 'PRICE'], 'Datetime': [], 'Others': []}\n"
     ]
    }
   ],
   "source": [
    "from metagpt.tools.libs.data_preprocess import get_column_info\n",
    "\n",
    "column_info = get_column_info(df)\n",
    "print(\"column_info\")\n",
    "print(column_info)\n"
   ]
  },
  {
   "cell_type": "code",
   "execution_count": 4,
   "id": "089a934c",
   "metadata": {
    "execution": {
     "iopub.execute_input": "2024-09-04T01:54:48.129812Z",
     "iopub.status.busy": "2024-09-04T01:54:48.128952Z",
     "iopub.status.idle": "2024-09-04T01:54:48.149763Z",
     "shell.execute_reply": "2024-09-04T01:54:48.149380Z"
    }
   },
   "outputs": [
    {
     "data": {
      "text/plain": [
       "(         MedInc  HouseAge  AveRooms  AveBedrms  Population  AveOccup  \\\n",
       " 14196 -0.326196  0.348490 -0.174916  -0.208365    0.768276  0.051376   \n",
       " 8267  -0.035843  1.618118 -0.402835  -0.128530   -0.098901 -0.117362   \n",
       " 17445  0.144701 -1.952710  0.088216  -0.257538   -0.449818 -0.032280   \n",
       " 14265 -1.017864  0.586545 -0.600015  -0.145156   -0.007434  0.077507   \n",
       " 2271  -0.171488  1.142008  0.349007   0.086624   -0.485877 -0.068832   \n",
       " \n",
       "        Latitude  Longitude  PRICE  \n",
       " 14196 -1.372811   1.272587  1.030  \n",
       " 8267  -0.876696   0.709162  3.821  \n",
       " 17445 -0.460146  -0.447603  1.726  \n",
       " 14265 -1.382172   1.232698  0.934  \n",
       " 2271   0.532084  -0.108551  0.965  ,\n",
       "          MedInc  HouseAge  AveRooms  AveBedrms  Population  AveOccup  \\\n",
       " 20046 -1.155085 -0.286324 -0.520686  -0.171746   -0.030301  0.067408   \n",
       " 3024  -0.708659  0.110435 -0.165815   0.223472    0.121851 -0.036030   \n",
       " 15663 -0.210402  1.856173 -0.610765   0.205892   -0.102419 -0.149989   \n",
       " 20484  0.975113 -0.921138  0.305115  -0.176552    0.244979  0.030011   \n",
       " 9814  -0.081794  0.427842  0.024193  -0.158465   -0.319653 -0.052971   \n",
       " \n",
       "        Latitude  Longitude    PRICE  \n",
       " 20046  0.195100   0.285347  0.47700  \n",
       " 3024  -0.235491   0.060975  0.45800  \n",
       " 15663  1.009478  -1.424870  5.00001  \n",
       " 20484 -0.637999   0.429943  2.18600  \n",
       " 9814   0.457199  -1.170581  2.78000  )"
      ]
     },
     "execution_count": 4,
     "metadata": {},
     "output_type": "execute_result"
    }
   ],
   "source": [
    "from sklearn.model_selection import train_test_split\n",
    "from sklearn.preprocessing import StandardScaler\n",
    "\n",
    "# Split the data into training and testing sets\n",
    "train_df, test_df = train_test_split(df, test_size=0.2, random_state=42)\n",
    "\n",
    "# Copy the DataFrame before processing\n",
    "train_df_copy = train_df.copy()\n",
    "test_df_copy = test_df.copy()\n",
    "\n",
    "# Standardize the numeric features\n",
    "numeric_features = ['MedInc', 'HouseAge', 'AveRooms', 'AveBedrms', 'Population', 'AveOccup', 'Latitude', 'Longitude']\n",
    "scaler = StandardScaler()\n",
    "\n",
    "# Fit and transform the training data\n",
    "train_df_copy[numeric_features] = scaler.fit_transform(train_df_copy[numeric_features])\n",
    "\n",
    "# Transform the testing data\n",
    "test_df_copy[numeric_features] = scaler.transform(test_df_copy[numeric_features])\n",
    "\n",
    "# Display the first few rows of the processed training and testing data\n",
    "train_df_copy.head(), test_df_copy.head()\n"
   ]
  },
  {
   "cell_type": "code",
   "execution_count": 5,
   "id": "163722f8",
   "metadata": {
    "execution": {
     "iopub.execute_input": "2024-09-04T01:54:51.483274Z",
     "iopub.status.busy": "2024-09-04T01:54:51.482642Z",
     "iopub.status.idle": "2024-09-04T01:54:51.488958Z",
     "shell.execute_reply": "2024-09-04T01:54:51.488201Z"
    }
   },
   "outputs": [
    {
     "name": "stdout",
     "output_type": "stream",
     "text": [
      "column_info\n",
      "{'Category': [], 'Numeric': ['MedInc', 'HouseAge', 'AveRooms', 'AveBedrms', 'Population', 'AveOccup', 'Latitude', 'Longitude', 'PRICE'], 'Datetime': [], 'Others': []}\n"
     ]
    }
   ],
   "source": [
    "from metagpt.tools.libs.data_preprocess import get_column_info\n",
    "\n",
    "# Assuming df is the DataFrame variable from 'Finished Tasks'\n",
    "column_info = get_column_info(df)\n",
    "print(\"column_info\")\n",
    "print(column_info)\n"
   ]
  },
  {
   "cell_type": "code",
   "execution_count": 6,
   "id": "20d99aa6",
   "metadata": {
    "execution": {
     "iopub.execute_input": "2024-09-04T01:54:55.562556Z",
     "iopub.status.busy": "2024-09-04T01:54:55.562173Z",
     "iopub.status.idle": "2024-09-04T01:54:55.597123Z",
     "shell.execute_reply": "2024-09-04T01:54:55.596733Z"
    }
   },
   "outputs": [
    {
     "name": "stdout",
     "output_type": "stream",
     "text": [
      "Train RMSE: 0.7196757085831575\n",
      "Test RMSE: 0.7455813830127762\n",
      "Train R2 Score: 0.6125511913966952\n",
      "Test R2 Score: 0.575787706032451\n"
     ]
    }
   ],
   "source": [
    "from sklearn.linear_model import LinearRegression\n",
    "from sklearn.metrics import mean_squared_error, r2_score\n",
    "\n",
    "# Separate features and target variable from the training data\n",
    "X_train = train_df_copy.drop(columns=['PRICE'])\n",
    "y_train = train_df_copy['PRICE']\n",
    "\n",
    "# Separate features and target variable from the test data\n",
    "X_test = test_df_copy.drop(columns=['PRICE'])\n",
    "y_test = test_df_copy['PRICE']\n",
    "\n",
    "# Initialize the Linear Regression model\n",
    "model = LinearRegression()\n",
    "\n",
    "# Train the model\n",
    "model.fit(X_train, y_train)\n",
    "\n",
    "# Make predictions\n",
    "y_pred_train = model.predict(X_train)\n",
    "y_pred_test = model.predict(X_test)\n",
    "\n",
    "# Evaluate the model\n",
    "train_rmse = np.sqrt(mean_squared_error(y_train, y_pred_train))\n",
    "test_rmse = np.sqrt(mean_squared_error(y_test, y_pred_test))\n",
    "train_r2 = r2_score(y_train, y_pred_train)\n",
    "test_r2 = r2_score(y_test, y_pred_test)\n",
    "\n",
    "print(f\"Train RMSE: {train_rmse}\")\n",
    "print(f\"Test RMSE: {test_rmse}\")\n",
    "print(f\"Train R2 Score: {train_r2}\")\n",
    "print(f\"Test R2 Score: {test_r2}\")\n"
   ]
  },
  {
   "cell_type": "code",
   "execution_count": 7,
   "id": "ea15febc",
   "metadata": {
    "execution": {
     "iopub.execute_input": "2024-09-04T01:55:00.630881Z",
     "iopub.status.busy": "2024-09-04T01:55:00.630569Z",
     "iopub.status.idle": "2024-09-04T01:55:01.013369Z",
     "shell.execute_reply": "2024-09-04T01:55:01.013015Z"
    }
   },
   "outputs": [
    {
     "name": "stdout",
     "output_type": "stream",
     "text": [
      "Residuals distribution image saved to: /Users/tuozhou/Desktop/RA/SZRI/ML_Assistant/data/output/image/residuals_distribution_1725414900.png\n",
      "Predicted vs Actual Prices image saved to: /Users/tuozhou/Desktop/RA/SZRI/ML_Assistant/data/output/image/predicted_vs_actual_1725414900.png\n",
      "Train RMSE: 0.7196757085831575\n",
      "Test RMSE: 0.7455813830127762\n",
      "Train R2 Score: 0.6125511913966952\n",
      "Test R2 Score: 0.575787706032451\n"
     ]
    },
    {
     "data": {
      "text/plain": [
       "<Figure size 1000x600 with 0 Axes>"
      ]
     },
     "metadata": {},
     "output_type": "display_data"
    },
    {
     "data": {
      "text/plain": [
       "<Figure size 1000x600 with 0 Axes>"
      ]
     },
     "metadata": {},
     "output_type": "display_data"
    }
   ],
   "source": [
    "# Evaluate the trained linear regression model\n",
    "\n",
    "# Visualize the residuals\n",
    "residuals = y_test - y_pred_test\n",
    "plt.figure(figsize=(10, 6))\n",
    "sns.histplot(residuals, kde=True, bins=30)\n",
    "plt.title('Residuals Distribution')\n",
    "plt.xlabel('Residuals')\n",
    "plt.ylabel('Frequency')\n",
    "timestamp = int(time.time())\n",
    "file_name = f'residuals_distribution_{timestamp}.png'\n",
    "file_path = save_dir / file_name\n",
    "plt.savefig(file_path)\n",
    "plt.clf()\n",
    "print(f'Residuals distribution image saved to: {file_path}')\n",
    "\n",
    "# Scatter plot of predicted vs actual prices\n",
    "plt.figure(figsize=(10, 6))\n",
    "plt.scatter(y_test, y_pred_test, alpha=0.5)\n",
    "plt.plot([min(y_test), max(y_test)], [min(y_test), max(y_test)], color='red', linestyle='--')\n",
    "plt.title('Predicted vs Actual Prices')\n",
    "plt.xlabel('Actual Prices')\n",
    "plt.ylabel('Predicted Prices')\n",
    "timestamp = int(time.time())\n",
    "file_name = f'predicted_vs_actual_{timestamp}.png'\n",
    "file_path = save_dir / file_name\n",
    "plt.savefig(file_path)\n",
    "plt.clf()\n",
    "print(f'Predicted vs Actual Prices image saved to: {file_path}')\n",
    "\n",
    "# Print evaluation metrics\n",
    "print(f\"Train RMSE: {train_rmse}\")\n",
    "print(f\"Test RMSE: {test_rmse}\")\n",
    "print(f\"Train R2 Score: {train_r2}\")\n",
    "print(f\"Test R2 Score: {test_r2}\")\n"
   ]
  }
 ],
 "metadata": {},
 "nbformat": 4,
 "nbformat_minor": 5
}
