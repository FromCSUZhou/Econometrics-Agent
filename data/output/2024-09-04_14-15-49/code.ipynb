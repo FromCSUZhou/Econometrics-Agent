{
 "cells": [
  {
   "cell_type": "code",
   "execution_count": 1,
   "id": "dd1b42ee",
   "metadata": {
    "execution": {
     "iopub.execute_input": "2024-09-04T06:14:57.547058Z",
     "iopub.status.busy": "2024-09-04T06:14:57.546563Z",
     "iopub.status.idle": "2024-09-04T06:14:58.931466Z",
     "shell.execute_reply": "2024-09-04T06:14:58.930828Z"
    }
   },
   "outputs": [
    {
     "ename": "ImportError",
     "evalue": "\n`load_boston` has been removed from scikit-learn since version 1.2.\n\nThe Boston housing prices dataset has an ethical problem: as\ninvestigated in [1], the authors of this dataset engineered a\nnon-invertible variable \"B\" assuming that racial self-segregation had a\npositive impact on house prices [2]. Furthermore the goal of the\nresearch that led to the creation of this dataset was to study the\nimpact of air quality but it did not give adequate demonstration of the\nvalidity of this assumption.\n\nThe scikit-learn maintainers therefore strongly discourage the use of\nthis dataset unless the purpose of the code is to study and educate\nabout ethical issues in data science and machine learning.\n\nIn this special case, you can fetch the dataset from the original\nsource::\n\n    import pandas as pd\n    import numpy as np\n\n    data_url = \"http://lib.stat.cmu.edu/datasets/boston\"\n    raw_df = pd.read_csv(data_url, sep=\"\\s+\", skiprows=22, header=None)\n    data = np.hstack([raw_df.values[::2, :], raw_df.values[1::2, :2]])\n    target = raw_df.values[1::2, 2]\n\nAlternative datasets include the California housing dataset and the\nAmes housing dataset. You can load the datasets as follows::\n\n    from sklearn.datasets import fetch_california_housing\n    housing = fetch_california_housing()\n\nfor the California housing dataset and::\n\n    from sklearn.datasets import fetch_openml\n    housing = fetch_openml(name=\"house_prices\", as_frame=True)\n\nfor the Ames housing dataset.\n\n[1] M Carlisle.\n\"Racist data destruction?\"\n<https://medium.com/@docintangible/racist-data-destruction-113e3eff54a8>\n\n[2] Harrison Jr, David, and Daniel L. Rubinfeld.\n\"Hedonic housing prices and the demand for clean air.\"\nJournal of environmental economics and management 5.1 (1978): 81-102.\n<https://www.researchgate.net/publication/4974606_Hedonic_housing_prices_and_the_demand_for_clean_air>\n",
     "output_type": "error",
     "traceback": [
      "\u001b[0;31m---------------------------------------------------------------------------\u001b[0m",
      "\u001b[0;31mImportError\u001b[0m                               Traceback (most recent call last)",
      "Cell \u001b[0;32mIn[1], line 3\u001b[0m\n\u001b[1;32m      1\u001b[0m \u001b[38;5;66;03m# Import necessary libraries\u001b[39;00m\n\u001b[1;32m      2\u001b[0m \u001b[38;5;28;01mimport\u001b[39;00m \u001b[38;5;21;01mpandas\u001b[39;00m \u001b[38;5;28;01mas\u001b[39;00m \u001b[38;5;21;01mpd\u001b[39;00m\n\u001b[0;32m----> 3\u001b[0m \u001b[38;5;28;01mfrom\u001b[39;00m \u001b[38;5;21;01msklearn\u001b[39;00m\u001b[38;5;21;01m.\u001b[39;00m\u001b[38;5;21;01mdatasets\u001b[39;00m \u001b[38;5;28;01mimport\u001b[39;00m load_boston\n\u001b[1;32m      4\u001b[0m \u001b[38;5;28;01mfrom\u001b[39;00m \u001b[38;5;21;01msklearn\u001b[39;00m\u001b[38;5;21;01m.\u001b[39;00m\u001b[38;5;21;01mmodel_selection\u001b[39;00m \u001b[38;5;28;01mimport\u001b[39;00m train_test_split\n\u001b[1;32m      5\u001b[0m \u001b[38;5;28;01mfrom\u001b[39;00m \u001b[38;5;21;01msklearn\u001b[39;00m\u001b[38;5;21;01m.\u001b[39;00m\u001b[38;5;21;01mpreprocessing\u001b[39;00m \u001b[38;5;28;01mimport\u001b[39;00m StandardScaler\n",
      "File \u001b[0;32m~/opt/anaconda3/envs/chatpilot/lib/python3.10/site-packages/sklearn/datasets/__init__.py:157\u001b[0m, in \u001b[0;36m__getattr__\u001b[0;34m(name)\u001b[0m\n\u001b[1;32m    108\u001b[0m \u001b[38;5;28;01mif\u001b[39;00m name \u001b[38;5;241m==\u001b[39m \u001b[38;5;124m\"\u001b[39m\u001b[38;5;124mload_boston\u001b[39m\u001b[38;5;124m\"\u001b[39m:\n\u001b[1;32m    109\u001b[0m     msg \u001b[38;5;241m=\u001b[39m textwrap\u001b[38;5;241m.\u001b[39mdedent(\u001b[38;5;124m\"\"\"\u001b[39m\n\u001b[1;32m    110\u001b[0m \u001b[38;5;124m        `load_boston` has been removed from scikit-learn since version 1.2.\u001b[39m\n\u001b[1;32m    111\u001b[0m \n\u001b[0;32m   (...)\u001b[0m\n\u001b[1;32m    155\u001b[0m \u001b[38;5;124m        <https://www.researchgate.net/publication/4974606_Hedonic_housing_prices_and_the_demand_for_clean_air>\u001b[39m\n\u001b[1;32m    156\u001b[0m \u001b[38;5;124m        \u001b[39m\u001b[38;5;124m\"\"\"\u001b[39m)\n\u001b[0;32m--> 157\u001b[0m     \u001b[38;5;28;01mraise\u001b[39;00m \u001b[38;5;167;01mImportError\u001b[39;00m(msg)\n\u001b[1;32m    158\u001b[0m \u001b[38;5;28;01mtry\u001b[39;00m:\n\u001b[1;32m    159\u001b[0m     \u001b[38;5;28;01mreturn\u001b[39;00m \u001b[38;5;28mglobals\u001b[39m()[name]\n",
      "\u001b[0;31mImportError\u001b[0m: \n`load_boston` has been removed from scikit-learn since version 1.2.\n\nThe Boston housing prices dataset has an ethical problem: as\ninvestigated in [1], the authors of this dataset engineered a\nnon-invertible variable \"B\" assuming that racial self-segregation had a\npositive impact on house prices [2]. Furthermore the goal of the\nresearch that led to the creation of this dataset was to study the\nimpact of air quality but it did not give adequate demonstration of the\nvalidity of this assumption.\n\nThe scikit-learn maintainers therefore strongly discourage the use of\nthis dataset unless the purpose of the code is to study and educate\nabout ethical issues in data science and machine learning.\n\nIn this special case, you can fetch the dataset from the original\nsource::\n\n    import pandas as pd\n    import numpy as np\n\n    data_url = \"http://lib.stat.cmu.edu/datasets/boston\"\n    raw_df = pd.read_csv(data_url, sep=\"\\s+\", skiprows=22, header=None)\n    data = np.hstack([raw_df.values[::2, :], raw_df.values[1::2, :2]])\n    target = raw_df.values[1::2, 2]\n\nAlternative datasets include the California housing dataset and the\nAmes housing dataset. You can load the datasets as follows::\n\n    from sklearn.datasets import fetch_california_housing\n    housing = fetch_california_housing()\n\nfor the California housing dataset and::\n\n    from sklearn.datasets import fetch_openml\n    housing = fetch_openml(name=\"house_prices\", as_frame=True)\n\nfor the Ames housing dataset.\n\n[1] M Carlisle.\n\"Racist data destruction?\"\n<https://medium.com/@docintangible/racist-data-destruction-113e3eff54a8>\n\n[2] Harrison Jr, David, and Daniel L. Rubinfeld.\n\"Hedonic housing prices and the demand for clean air.\"\nJournal of environmental economics and management 5.1 (1978): 81-102.\n<https://www.researchgate.net/publication/4974606_Hedonic_housing_prices_and_the_demand_for_clean_air>\n"
     ]
    }
   ],
   "source": [
    "# Import necessary libraries\n",
    "import pandas as pd\n",
    "from sklearn.datasets import load_boston\n",
    "from sklearn.model_selection import train_test_split\n",
    "from sklearn.preprocessing import StandardScaler\n",
    "\n",
    "# Load the Boston house price dataset\n",
    "boston = load_boston()\n",
    "data = pd.DataFrame(boston.data, columns=boston.feature_names)\n",
    "data['PRICE'] = boston.target\n",
    "\n",
    "# Split the data into training and testing sets\n",
    "train_data, test_data = train_test_split(data, test_size=0.2, random_state=42)\n",
    "\n",
    "# Copy the DataFrame before processing\n",
    "train_data_copy = train_data.copy()\n",
    "test_data_copy = test_data.copy()\n",
    "\n",
    "# Monitor data types per column\n",
    "print(train_data_copy.dtypes)\n",
    "\n",
    "# Standardize the features (excluding the target column 'PRICE')\n",
    "scaler = StandardScaler()\n",
    "train_data_copy[boston.feature_names] = scaler.fit_transform(train_data_copy[boston.feature_names])\n",
    "test_data_copy[boston.feature_names] = scaler.transform(test_data_copy[boston.feature_names])\n",
    "\n",
    "# Display the first few rows of the processed training data\n",
    "print(train_data_copy.head())\n"
   ]
  },
  {
   "cell_type": "code",
   "execution_count": 2,
   "id": "e3331a4c",
   "metadata": {
    "execution": {
     "iopub.execute_input": "2024-09-04T06:15:04.635038Z",
     "iopub.status.busy": "2024-09-04T06:15:04.634517Z",
     "iopub.status.idle": "2024-09-04T06:15:04.730438Z",
     "shell.execute_reply": "2024-09-04T06:15:04.729837Z"
    }
   },
   "outputs": [
    {
     "name": "stdout",
     "output_type": "stream",
     "text": [
      "MedInc        float64\n",
      "HouseAge      float64\n",
      "AveRooms      float64\n",
      "AveBedrms     float64\n",
      "Population    float64\n",
      "AveOccup      float64\n",
      "Latitude      float64\n",
      "Longitude     float64\n",
      "PRICE         float64\n",
      "dtype: object\n",
      "         MedInc  HouseAge  AveRooms  AveBedrms  Population  AveOccup  \\\n",
      "14196 -0.326196  0.348490 -0.174916  -0.208365    0.768276  0.051376   \n",
      "8267  -0.035843  1.618118 -0.402835  -0.128530   -0.098901 -0.117362   \n",
      "17445  0.144701 -1.952710  0.088216  -0.257538   -0.449818 -0.032280   \n",
      "14265 -1.017864  0.586545 -0.600015  -0.145156   -0.007434  0.077507   \n",
      "2271  -0.171488  1.142008  0.349007   0.086624   -0.485877 -0.068832   \n",
      "\n",
      "       Latitude  Longitude  PRICE  \n",
      "14196 -1.372811   1.272587  1.030  \n",
      "8267  -0.876696   0.709162  3.821  \n",
      "17445 -0.460146  -0.447603  1.726  \n",
      "14265 -1.382172   1.232698  0.934  \n",
      "2271   0.532084  -0.108551  0.965  \n"
     ]
    }
   ],
   "source": [
    "import pandas as pd\n",
    "from sklearn.datasets import fetch_california_housing\n",
    "from sklearn.model_selection import train_test_split\n",
    "from sklearn.preprocessing import StandardScaler\n",
    "\n",
    "# Load the California housing dataset\n",
    "housing = fetch_california_housing()\n",
    "data = pd.DataFrame(housing.data, columns=housing.feature_names)\n",
    "data['PRICE'] = housing.target\n",
    "\n",
    "# Split the data into training and testing sets\n",
    "train_data, test_data = train_test_split(data, test_size=0.2, random_state=42)\n",
    "\n",
    "# Copy the DataFrame before processing\n",
    "train_data_copy = train_data.copy()\n",
    "test_data_copy = test_data.copy()\n",
    "\n",
    "# Monitor data types per column\n",
    "print(train_data_copy.dtypes)\n",
    "\n",
    "# Standardize the features (excluding the target column 'PRICE')\n",
    "scaler = StandardScaler()\n",
    "train_data_copy[housing.feature_names] = scaler.fit_transform(train_data_copy[housing.feature_names])\n",
    "test_data_copy[housing.feature_names] = scaler.transform(test_data_copy[housing.feature_names])\n",
    "\n",
    "# Display the first few rows of the processed training data\n",
    "print(train_data_copy.head())"
   ]
  },
  {
   "cell_type": "code",
   "execution_count": 3,
   "id": "82c04c21",
   "metadata": {
    "execution": {
     "iopub.execute_input": "2024-09-04T06:15:12.180546Z",
     "iopub.status.busy": "2024-09-04T06:15:12.180209Z",
     "iopub.status.idle": "2024-09-04T06:15:12.839333Z",
     "shell.execute_reply": "2024-09-04T06:15:12.838801Z"
    }
   },
   "outputs": [
    {
     "name": "stdout",
     "output_type": "stream",
     "text": [
      "Image saved to: /Users/tuozhou/Desktop/RA/SZRI/ML_Assistant/data/output/image/correlation_matrix_1725430512.png\n"
     ]
    },
    {
     "data": {
      "text/plain": [
       "<Figure size 1200x800 with 0 Axes>"
      ]
     },
     "metadata": {},
     "output_type": "display_data"
    }
   ],
   "source": [
    "import numpy as np\n",
    "import seaborn as sns\n",
    "import matplotlib.pyplot as plt\n",
    "from pathlib import Path\n",
    "import time\n",
    "\n",
    "# Exploratory Data Analysis (EDA)\n",
    "\n",
    "# Distinguish column types\n",
    "numerical_columns = train_data_copy.select_dtypes(include=[np.number]).columns\n",
    "categorical_columns = train_data_copy.select_dtypes(exclude=[np.number]).columns\n",
    "\n",
    "# Correlation matrix\n",
    "correlation_matrix = train_data_copy[numerical_columns].corr()\n",
    "\n",
    "# Setting up the path for saving the image\n",
    "timestamp = int(time.time())\n",
    "save_dir = Path(\"/Users/tuozhou/Desktop/RA/SZRI/ML_Assistant/data/output/image\")\n",
    "save_dir.mkdir(parents=True, exist_ok=True)\n",
    "file_name = f'correlation_matrix_{timestamp}.png'\n",
    "file_path = save_dir / file_name\n",
    "\n",
    "# Plotting the correlation matrix\n",
    "plt.figure(figsize=(12, 8))\n",
    "sns.heatmap(correlation_matrix, annot=True, cmap='coolwarm', fmt='.2f')\n",
    "plt.title('Correlation Matrix')\n",
    "plt.savefig(file_path)\n",
    "plt.clf()\n",
    "print(f'Image saved to: {file_path}')\n"
   ]
  },
  {
   "cell_type": "code",
   "execution_count": 4,
   "id": "6adf66b5",
   "metadata": {
    "execution": {
     "iopub.execute_input": "2024-09-04T06:15:15.598836Z",
     "iopub.status.busy": "2024-09-04T06:15:15.598091Z",
     "iopub.status.idle": "2024-09-04T06:15:16.544727Z",
     "shell.execute_reply": "2024-09-04T06:15:16.544374Z"
    }
   },
   "outputs": [
    {
     "name": "stderr",
     "output_type": "stream",
     "text": [
      "2024-09-04 14:15:15.736 | INFO     | metagpt.const:get_metagpt_package_root:21 - Package root set to /Users/tuozhou/Desktop/RA/SZRI/ChatPilot\n"
     ]
    },
    {
     "name": "stdout",
     "output_type": "stream",
     "text": [
      "column_info\n",
      "{'Category': [], 'Numeric': ['MedInc', 'HouseAge', 'AveRooms', 'AveBedrms', 'Population', 'AveOccup', 'Latitude', 'Longitude', 'PRICE'], 'Datetime': [], 'Others': []}\n"
     ]
    }
   ],
   "source": [
    "from metagpt.tools.libs.data_preprocess import get_column_info\n",
    "\n",
    "# Assuming train_data_copy is the DataFrame variable from 'Finished Tasks'\n",
    "column_info = get_column_info(train_data_copy)\n",
    "print(\"column_info\")\n",
    "print(column_info)\n"
   ]
  },
  {
   "cell_type": "code",
   "execution_count": 5,
   "id": "700a9a81",
   "metadata": {
    "execution": {
     "iopub.execute_input": "2024-09-04T06:15:20.956634Z",
     "iopub.status.busy": "2024-09-04T06:15:20.955565Z",
     "iopub.status.idle": "2024-09-04T06:15:21.339165Z",
     "shell.execute_reply": "2024-09-04T06:15:21.338709Z"
    }
   },
   "outputs": [
    {
     "name": "stdout",
     "output_type": "stream",
     "text": [
      "                            OLS Regression Results                            \n",
      "==============================================================================\n",
      "Dep. Variable:                  PRICE   R-squared:                       0.613\n",
      "Model:                            OLS   Adj. R-squared:                  0.612\n",
      "Method:                 Least Squares   F-statistic:                     3261.\n",
      "Date:                Wed, 04 Sep 2024   Prob (F-statistic):               0.00\n",
      "Time:                        14:15:21   Log-Likelihood:                -17998.\n",
      "No. Observations:               16512   AIC:                         3.601e+04\n",
      "Df Residuals:                   16503   BIC:                         3.608e+04\n",
      "Df Model:                           8                                         \n",
      "Covariance Type:            nonrobust                                         \n",
      "==============================================================================\n",
      "                 coef    std err          t      P>|t|      [0.025      0.975]\n",
      "------------------------------------------------------------------------------\n",
      "const          2.0719      0.006    369.848      0.000       2.061       2.083\n",
      "MedInc         0.8544      0.009     95.697      0.000       0.837       0.872\n",
      "HouseAge       0.1225      0.006     19.665      0.000       0.110       0.135\n",
      "AveRooms      -0.2944      0.016    -18.677      0.000      -0.325      -0.264\n",
      "AveBedrms      0.3393      0.014     23.556      0.000       0.311       0.367\n",
      "Population    -0.0023      0.006     -0.387      0.699      -0.014       0.009\n",
      "AveOccup      -0.0408      0.006     -7.253      0.000      -0.052      -0.030\n",
      "Latitude      -0.8969      0.017    -52.767      0.000      -0.930      -0.864\n",
      "Longitude     -0.8698      0.017    -52.117      0.000      -0.903      -0.837\n",
      "==============================================================================\n",
      "Omnibus:                     3333.187   Durbin-Watson:                   1.962\n",
      "Prob(Omnibus):                  0.000   Jarque-Bera (JB):             9371.466\n",
      "Skew:                           1.071   Prob(JB):                         0.00\n",
      "Kurtosis:                       6.006   Cond. No.                         6.54\n",
      "==============================================================================\n",
      "\n",
      "Notes:\n",
      "[1] Standard Errors assume that the covariance matrix of the errors is correctly specified.\n"
     ]
    }
   ],
   "source": [
    "import pandas as pd\n",
    "from sklearn.datasets import fetch_california_housing\n",
    "from sklearn.model_selection import train_test_split\n",
    "from sklearn.preprocessing import StandardScaler\n",
    "from sklearn.linear_model import LinearRegression\n",
    "import statsmodels.api as sm\n",
    "\n",
    "# Load the dataset\n",
    "housing = fetch_california_housing()\n",
    "data = pd.DataFrame(housing.data, columns=housing.feature_names)\n",
    "data['PRICE'] = housing.target\n",
    "\n",
    "# Split the dataset into training and testing sets\n",
    "train_data, test_data = train_test_split(data, test_size=0.2, random_state=42)\n",
    "\n",
    "# Copy the data for processing\n",
    "train_data_copy = train_data.copy()\n",
    "test_data_copy = test_data.copy()\n",
    "\n",
    "# Standardize the features\n",
    "scaler = StandardScaler()\n",
    "train_data_copy[housing.feature_names] = scaler.fit_transform(train_data_copy[housing.feature_names])\n",
    "test_data_copy[housing.feature_names] = scaler.transform(test_data_copy[housing.feature_names])\n",
    "\n",
    "# Prepare the data for linear regression\n",
    "X_train = train_data_copy[housing.feature_names]\n",
    "y_train = train_data_copy['PRICE']\n",
    "X_test = test_data_copy[housing.feature_names]\n",
    "y_test = test_data_copy['PRICE']\n",
    "\n",
    "# Add a constant to the model (intercept)\n",
    "X_train = sm.add_constant(X_train)\n",
    "X_test = sm.add_constant(X_test)\n",
    "\n",
    "# Fit the linear regression model\n",
    "model = sm.OLS(y_train, X_train).fit()\n",
    "\n",
    "# Print the regression summary statistics table\n",
    "print(model.summary())\n"
   ]
  },
  {
   "cell_type": "code",
   "execution_count": 6,
   "id": "a1adb281",
   "metadata": {
    "execution": {
     "iopub.execute_input": "2024-09-04T06:15:24.134595Z",
     "iopub.status.busy": "2024-09-04T06:15:24.133958Z",
     "iopub.status.idle": "2024-09-04T06:15:24.139087Z",
     "shell.execute_reply": "2024-09-04T06:15:24.138410Z"
    }
   },
   "outputs": [
    {
     "name": "stdout",
     "output_type": "stream",
     "text": [
      "column_info\n",
      "{'Category': [], 'Numeric': ['MedInc', 'HouseAge', 'AveRooms', 'AveBedrms', 'Population', 'AveOccup', 'Latitude', 'Longitude', 'PRICE'], 'Datetime': [], 'Others': []}\n"
     ]
    }
   ],
   "source": [
    "from metagpt.tools.libs.data_preprocess import get_column_info\n",
    "\n",
    "# Assuming 'train_data_copy' is the DataFrame variable from 'Finished Tasks'\n",
    "column_info = get_column_info(train_data_copy)\n",
    "print(\"column_info\")\n",
    "print(column_info)\n"
   ]
  },
  {
   "cell_type": "code",
   "execution_count": 7,
   "id": "15ccda79",
   "metadata": {
    "execution": {
     "iopub.execute_input": "2024-09-04T06:15:27.932216Z",
     "iopub.status.busy": "2024-09-04T06:15:27.931839Z",
     "iopub.status.idle": "2024-09-04T06:15:46.218061Z",
     "shell.execute_reply": "2024-09-04T06:15:46.217701Z"
    }
   },
   "outputs": [
    {
     "name": "stdout",
     "output_type": "stream",
     "text": [
      "Train MSE: 0.11935461834406613\n",
      "Test MSE: 0.21880009513388615\n",
      "Train R2: 0.9107147189478076\n",
      "Test R2: 0.8330291544342099\n"
     ]
    }
   ],
   "source": [
    "# Import necessary libraries\n",
    "from sklearn.ensemble import GradientBoostingRegressor\n",
    "from sklearn.metrics import mean_squared_error, r2_score\n",
    "\n",
    "# Prepare the data\n",
    "X_train = train_data_copy[housing.feature_names]\n",
    "y_train = train_data_copy['PRICE']\n",
    "X_test = test_data_copy[housing.feature_names]\n",
    "y_test = test_data_copy['PRICE']\n",
    "\n",
    "# Train a Gradient Boosting Regressor model\n",
    "gbr = GradientBoostingRegressor(n_estimators=500, learning_rate=0.1, max_depth=4, random_state=42)\n",
    "gbr.fit(X_train, y_train)\n",
    "\n",
    "# Make predictions\n",
    "y_train_pred = gbr.predict(X_train)\n",
    "y_test_pred = gbr.predict(X_test)\n",
    "\n",
    "# Evaluate the model\n",
    "train_mse = mean_squared_error(y_train, y_train_pred)\n",
    "test_mse = mean_squared_error(y_test, y_test_pred)\n",
    "train_r2 = r2_score(y_train, y_train_pred)\n",
    "test_r2 = r2_score(y_test, y_test_pred)\n",
    "\n",
    "print(f\"Train MSE: {train_mse}\")\n",
    "print(f\"Test MSE: {test_mse}\")\n",
    "print(f\"Train R2: {train_r2}\")\n",
    "print(f\"Test R2: {test_r2}\")\n"
   ]
  },
  {
   "cell_type": "code",
   "execution_count": 8,
   "id": "7e7718d2",
   "metadata": {
    "execution": {
     "iopub.execute_input": "2024-09-04T06:15:48.829206Z",
     "iopub.status.busy": "2024-09-04T06:15:48.828598Z",
     "iopub.status.idle": "2024-09-04T06:15:48.897487Z",
     "shell.execute_reply": "2024-09-04T06:15:48.896955Z"
    }
   },
   "outputs": [
    {
     "name": "stdout",
     "output_type": "stream",
     "text": [
      "                                 OLS Regression Results                                \n",
      "=======================================================================================\n",
      "Dep. Variable:                  PRICE   R-squared (uncentered):                   0.145\n",
      "Model:                            OLS   Adj. R-squared (uncentered):              0.145\n",
      "Method:                 Least Squares   F-statistic:                              351.1\n",
      "Date:                Wed, 04 Sep 2024   Prob (F-statistic):                        0.00\n",
      "Time:                        14:15:48   Log-Likelihood:                         -36399.\n",
      "No. Observations:               16512   AIC:                                  7.281e+04\n",
      "Df Residuals:                   16504   BIC:                                  7.288e+04\n",
      "Df Model:                           8                                                  \n",
      "Covariance Type:            nonrobust                                                  \n",
      "==============================================================================\n",
      "                 coef    std err          t      P>|t|      [0.025      0.975]\n",
      "------------------------------------------------------------------------------\n",
      "MedInc         0.8544      0.027     31.400      0.000       0.801       0.908\n",
      "HouseAge       0.1225      0.019      6.453      0.000       0.085       0.160\n",
      "AveRooms      -0.2944      0.048     -6.128      0.000      -0.389      -0.200\n",
      "AveBedrms      0.3393      0.044      7.729      0.000       0.253       0.425\n",
      "Population    -0.0023      0.018     -0.127      0.899      -0.038       0.033\n",
      "AveOccup      -0.0408      0.017     -2.380      0.017      -0.074      -0.007\n",
      "Latitude      -0.8969      0.052    -17.314      0.000      -0.998      -0.795\n",
      "Longitude     -0.8698      0.051    -17.101      0.000      -0.970      -0.770\n",
      "==============================================================================\n",
      "Omnibus:                     3333.187   Durbin-Watson:                   0.211\n",
      "Prob(Omnibus):                  0.000   Jarque-Bera (JB):             9371.466\n",
      "Skew:                           1.071   Prob(JB):                         0.00\n",
      "Kurtosis:                       6.006   Cond. No.                         6.54\n",
      "==============================================================================\n",
      "\n",
      "Notes:\n",
      "[1] R² is computed without centering (uncentered) since the model does not contain a constant.\n",
      "[2] Standard Errors assume that the covariance matrix of the errors is correctly specified.\n"
     ]
    }
   ],
   "source": [
    "# Evaluate the model and print the regression summary statistics table for the estimated coefficients\n",
    "\n",
    "# Ensure that the evaluated data is same processed as the training data\n",
    "X_test = sm.add_constant(test_data_copy[housing.feature_names])\n",
    "y_test = test_data_copy['PRICE']\n",
    "\n",
    "# Use the trained model from previous task result directly\n",
    "model = sm.OLS(y_train, X_train).fit()\n",
    "\n",
    "# Print the regression summary statistics table for the estimated coefficients\n",
    "print(model.summary())\n"
   ]
  }
 ],
 "metadata": {},
 "nbformat": 4,
 "nbformat_minor": 5
}
