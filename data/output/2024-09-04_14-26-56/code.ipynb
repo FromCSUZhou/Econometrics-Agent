{
 "cells": [
  {
   "cell_type": "code",
   "execution_count": 1,
   "id": "632bd413",
   "metadata": {
    "execution": {
     "iopub.execute_input": "2024-09-04T06:25:39.562392Z",
     "iopub.status.busy": "2024-09-04T06:25:39.561665Z",
     "iopub.status.idle": "2024-09-04T06:25:41.724219Z",
     "shell.execute_reply": "2024-09-04T06:25:41.723521Z"
    }
   },
   "outputs": [
    {
     "ename": "ImportError",
     "evalue": "\n`load_boston` has been removed from scikit-learn since version 1.2.\n\nThe Boston housing prices dataset has an ethical problem: as\ninvestigated in [1], the authors of this dataset engineered a\nnon-invertible variable \"B\" assuming that racial self-segregation had a\npositive impact on house prices [2]. Furthermore the goal of the\nresearch that led to the creation of this dataset was to study the\nimpact of air quality but it did not give adequate demonstration of the\nvalidity of this assumption.\n\nThe scikit-learn maintainers therefore strongly discourage the use of\nthis dataset unless the purpose of the code is to study and educate\nabout ethical issues in data science and machine learning.\n\nIn this special case, you can fetch the dataset from the original\nsource::\n\n    import pandas as pd\n    import numpy as np\n\n    data_url = \"http://lib.stat.cmu.edu/datasets/boston\"\n    raw_df = pd.read_csv(data_url, sep=\"\\s+\", skiprows=22, header=None)\n    data = np.hstack([raw_df.values[::2, :], raw_df.values[1::2, :2]])\n    target = raw_df.values[1::2, 2]\n\nAlternative datasets include the California housing dataset and the\nAmes housing dataset. You can load the datasets as follows::\n\n    from sklearn.datasets import fetch_california_housing\n    housing = fetch_california_housing()\n\nfor the California housing dataset and::\n\n    from sklearn.datasets import fetch_openml\n    housing = fetch_openml(name=\"house_prices\", as_frame=True)\n\nfor the Ames housing dataset.\n\n[1] M Carlisle.\n\"Racist data destruction?\"\n<https://medium.com/@docintangible/racist-data-destruction-113e3eff54a8>\n\n[2] Harrison Jr, David, and Daniel L. Rubinfeld.\n\"Hedonic housing prices and the demand for clean air.\"\nJournal of environmental economics and management 5.1 (1978): 81-102.\n<https://www.researchgate.net/publication/4974606_Hedonic_housing_prices_and_the_demand_for_clean_air>\n",
     "output_type": "error",
     "traceback": [
      "\u001b[0;31m---------------------------------------------------------------------------\u001b[0m",
      "\u001b[0;31mImportError\u001b[0m                               Traceback (most recent call last)",
      "Cell \u001b[0;32mIn[1], line 2\u001b[0m\n\u001b[1;32m      1\u001b[0m \u001b[38;5;28;01mimport\u001b[39;00m \u001b[38;5;21;01mpandas\u001b[39;00m \u001b[38;5;28;01mas\u001b[39;00m \u001b[38;5;21;01mpd\u001b[39;00m\n\u001b[0;32m----> 2\u001b[0m \u001b[38;5;28;01mfrom\u001b[39;00m \u001b[38;5;21;01msklearn\u001b[39;00m\u001b[38;5;21;01m.\u001b[39;00m\u001b[38;5;21;01mdatasets\u001b[39;00m \u001b[38;5;28;01mimport\u001b[39;00m load_boston\n\u001b[1;32m      4\u001b[0m \u001b[38;5;66;03m# Load the Boston house price dataset\u001b[39;00m\n\u001b[1;32m      5\u001b[0m boston \u001b[38;5;241m=\u001b[39m load_boston()\n",
      "File \u001b[0;32m~/opt/anaconda3/envs/chatpilot/lib/python3.10/site-packages/sklearn/datasets/__init__.py:157\u001b[0m, in \u001b[0;36m__getattr__\u001b[0;34m(name)\u001b[0m\n\u001b[1;32m    108\u001b[0m \u001b[38;5;28;01mif\u001b[39;00m name \u001b[38;5;241m==\u001b[39m \u001b[38;5;124m\"\u001b[39m\u001b[38;5;124mload_boston\u001b[39m\u001b[38;5;124m\"\u001b[39m:\n\u001b[1;32m    109\u001b[0m     msg \u001b[38;5;241m=\u001b[39m textwrap\u001b[38;5;241m.\u001b[39mdedent(\u001b[38;5;124m\"\"\"\u001b[39m\n\u001b[1;32m    110\u001b[0m \u001b[38;5;124m        `load_boston` has been removed from scikit-learn since version 1.2.\u001b[39m\n\u001b[1;32m    111\u001b[0m \n\u001b[0;32m   (...)\u001b[0m\n\u001b[1;32m    155\u001b[0m \u001b[38;5;124m        <https://www.researchgate.net/publication/4974606_Hedonic_housing_prices_and_the_demand_for_clean_air>\u001b[39m\n\u001b[1;32m    156\u001b[0m \u001b[38;5;124m        \u001b[39m\u001b[38;5;124m\"\"\"\u001b[39m)\n\u001b[0;32m--> 157\u001b[0m     \u001b[38;5;28;01mraise\u001b[39;00m \u001b[38;5;167;01mImportError\u001b[39;00m(msg)\n\u001b[1;32m    158\u001b[0m \u001b[38;5;28;01mtry\u001b[39;00m:\n\u001b[1;32m    159\u001b[0m     \u001b[38;5;28;01mreturn\u001b[39;00m \u001b[38;5;28mglobals\u001b[39m()[name]\n",
      "\u001b[0;31mImportError\u001b[0m: \n`load_boston` has been removed from scikit-learn since version 1.2.\n\nThe Boston housing prices dataset has an ethical problem: as\ninvestigated in [1], the authors of this dataset engineered a\nnon-invertible variable \"B\" assuming that racial self-segregation had a\npositive impact on house prices [2]. Furthermore the goal of the\nresearch that led to the creation of this dataset was to study the\nimpact of air quality but it did not give adequate demonstration of the\nvalidity of this assumption.\n\nThe scikit-learn maintainers therefore strongly discourage the use of\nthis dataset unless the purpose of the code is to study and educate\nabout ethical issues in data science and machine learning.\n\nIn this special case, you can fetch the dataset from the original\nsource::\n\n    import pandas as pd\n    import numpy as np\n\n    data_url = \"http://lib.stat.cmu.edu/datasets/boston\"\n    raw_df = pd.read_csv(data_url, sep=\"\\s+\", skiprows=22, header=None)\n    data = np.hstack([raw_df.values[::2, :], raw_df.values[1::2, :2]])\n    target = raw_df.values[1::2, 2]\n\nAlternative datasets include the California housing dataset and the\nAmes housing dataset. You can load the datasets as follows::\n\n    from sklearn.datasets import fetch_california_housing\n    housing = fetch_california_housing()\n\nfor the California housing dataset and::\n\n    from sklearn.datasets import fetch_openml\n    housing = fetch_openml(name=\"house_prices\", as_frame=True)\n\nfor the Ames housing dataset.\n\n[1] M Carlisle.\n\"Racist data destruction?\"\n<https://medium.com/@docintangible/racist-data-destruction-113e3eff54a8>\n\n[2] Harrison Jr, David, and Daniel L. Rubinfeld.\n\"Hedonic housing prices and the demand for clean air.\"\nJournal of environmental economics and management 5.1 (1978): 81-102.\n<https://www.researchgate.net/publication/4974606_Hedonic_housing_prices_and_the_demand_for_clean_air>\n"
     ]
    }
   ],
   "source": [
    "import pandas as pd\n",
    "from sklearn.datasets import load_boston\n",
    "\n",
    "# Load the Boston house price dataset\n",
    "boston = load_boston()\n",
    "boston_df = pd.DataFrame(boston.data, columns=boston.feature_names)\n",
    "boston_df['PRICE'] = boston.target\n",
    "\n",
    "# Display the first few rows of the dataset\n",
    "boston_df.head()\n"
   ]
  },
  {
   "cell_type": "code",
   "execution_count": 2,
   "id": "14318257",
   "metadata": {
    "execution": {
     "iopub.execute_input": "2024-09-04T06:26:21.301646Z",
     "iopub.status.busy": "2024-09-04T06:26:21.300477Z",
     "iopub.status.idle": "2024-09-04T06:26:21.994511Z",
     "shell.execute_reply": "2024-09-04T06:26:21.993218Z"
    }
   },
   "outputs": [
    {
     "name": "stdout",
     "output_type": "stream",
     "text": [
      "   MedInc  HouseAge  AveRooms  AveBedrms  Population  AveOccup  Latitude  \\\n",
      "0  8.3252      41.0  6.984127   1.023810       322.0  2.555556     37.88   \n",
      "1  8.3014      21.0  6.238137   0.971880      2401.0  2.109842     37.86   \n",
      "2  7.2574      52.0  8.288136   1.073446       496.0  2.802260     37.85   \n",
      "3  5.6431      52.0  5.817352   1.073059       558.0  2.547945     37.85   \n",
      "4  3.8462      52.0  6.281853   1.081081       565.0  2.181467     37.85   \n",
      "\n",
      "   Longitude  PRICE  \n",
      "0    -122.23  4.526  \n",
      "1    -122.22  3.585  \n",
      "2    -122.24  3.521  \n",
      "3    -122.25  3.413  \n",
      "4    -122.25  3.422  \n",
      "                            OLS Regression Results                            \n",
      "==============================================================================\n",
      "Dep. Variable:                  PRICE   R-squared:                       0.613\n",
      "Model:                            OLS   Adj. R-squared:                  0.612\n",
      "Method:                 Least Squares   F-statistic:                     3261.\n",
      "Date:                Wed, 04 Sep 2024   Prob (F-statistic):               0.00\n",
      "Time:                        14:26:21   Log-Likelihood:                -17998.\n",
      "No. Observations:               16512   AIC:                         3.601e+04\n",
      "Df Residuals:                   16503   BIC:                         3.608e+04\n",
      "Df Model:                           8                                         \n",
      "Covariance Type:            nonrobust                                         \n",
      "==============================================================================\n",
      "                 coef    std err          t      P>|t|      [0.025      0.975]\n",
      "------------------------------------------------------------------------------\n",
      "const        -37.0233      0.728    -50.835      0.000     -38.451     -35.596\n",
      "MedInc         0.4487      0.005     95.697      0.000       0.439       0.458\n",
      "HouseAge       0.0097      0.000     19.665      0.000       0.009       0.011\n",
      "AveRooms      -0.1233      0.007    -18.677      0.000      -0.136      -0.110\n",
      "AveBedrms      0.7831      0.033     23.556      0.000       0.718       0.848\n",
      "Population  -2.03e-06   5.25e-06     -0.387      0.699   -1.23e-05    8.26e-06\n",
      "AveOccup      -0.0035      0.000     -7.253      0.000      -0.004      -0.003\n",
      "Latitude      -0.4198      0.008    -52.767      0.000      -0.435      -0.404\n",
      "Longitude     -0.4337      0.008    -52.117      0.000      -0.450      -0.417\n",
      "==============================================================================\n",
      "Omnibus:                     3333.187   Durbin-Watson:                   1.962\n",
      "Prob(Omnibus):                  0.000   Jarque-Bera (JB):             9371.466\n",
      "Skew:                           1.071   Prob(JB):                         0.00\n",
      "Kurtosis:                       6.006   Cond. No.                     2.38e+05\n",
      "==============================================================================\n",
      "\n",
      "Notes:\n",
      "[1] Standard Errors assume that the covariance matrix of the errors is correctly specified.\n",
      "[2] The condition number is large, 2.38e+05. This might indicate that there are\n",
      "strong multicollinearity or other numerical problems.\n",
      "20046    0.719123\n",
      "3024     1.764017\n",
      "15663    2.709659\n",
      "20484    2.838926\n",
      "9814     2.604657\n",
      "dtype: float64\n"
     ]
    }
   ],
   "source": [
    "import pandas as pd\n",
    "from sklearn.datasets import fetch_california_housing\n",
    "from sklearn.model_selection import train_test_split\n",
    "from sklearn.linear_model import LinearRegression\n",
    "import statsmodels.api as sm\n",
    "\n",
    "# Load the California housing dataset\n",
    "housing = fetch_california_housing()\n",
    "housing_df = pd.DataFrame(housing.data, columns=housing.feature_names)\n",
    "housing_df['PRICE'] = housing.target\n",
    "\n",
    "# Display the first few rows of the dataset\n",
    "print(housing_df.head())\n",
    "\n",
    "# Split the data into training and testing sets\n",
    "X = housing_df.drop('PRICE', axis=1)\n",
    "y = housing_df['PRICE']\n",
    "X_train, X_test, y_train, y_test = train_test_split(X, y, test_size=0.2, random_state=42)\n",
    "\n",
    "# Add a constant to the model (intercept)\n",
    "X_train_const = sm.add_constant(X_train)\n",
    "X_test_const = sm.add_constant(X_test)\n",
    "\n",
    "# Fit the linear regression model\n",
    "model = sm.OLS(y_train, X_train_const).fit()\n",
    "\n",
    "# Print the regression summary statistics table\n",
    "print(model.summary())\n",
    "\n",
    "# Predict on the test set\n",
    "y_pred = model.predict(X_test_const)\n",
    "\n",
    "# Display the first few predictions\n",
    "print(y_pred[:5])"
   ]
  },
  {
   "cell_type": "code",
   "execution_count": 3,
   "id": "9b6aef64",
   "metadata": {
    "execution": {
     "iopub.execute_input": "2024-09-04T06:26:29.874275Z",
     "iopub.status.busy": "2024-09-04T06:26:29.873701Z",
     "iopub.status.idle": "2024-09-04T06:26:30.524033Z",
     "shell.execute_reply": "2024-09-04T06:26:30.523517Z"
    }
   },
   "outputs": [
    {
     "name": "stdout",
     "output_type": "stream",
     "text": [
      "Image saved to: /Users/tuozhou/Desktop/RA/SZRI/ML_Assistant/data/output/image/correlation_matrix_1725431190.png\n",
      "             MedInc      HouseAge      AveRooms     AveBedrms    Population  \\\n",
      "count  20640.000000  20640.000000  20640.000000  20640.000000  20640.000000   \n",
      "mean       3.870671     28.639486      5.429000      1.096675   1425.476744   \n",
      "std        1.899822     12.585558      2.474173      0.473911   1132.462122   \n",
      "min        0.499900      1.000000      0.846154      0.333333      3.000000   \n",
      "25%        2.563400     18.000000      4.440716      1.006079    787.000000   \n",
      "50%        3.534800     29.000000      5.229129      1.048780   1166.000000   \n",
      "75%        4.743250     37.000000      6.052381      1.099526   1725.000000   \n",
      "max       15.000100     52.000000    141.909091     34.066667  35682.000000   \n",
      "\n",
      "           AveOccup      Latitude     Longitude         PRICE  \n",
      "count  20640.000000  20640.000000  20640.000000  20640.000000  \n",
      "mean       3.070655     35.631861   -119.569704      2.068558  \n",
      "std       10.386050      2.135952      2.003532      1.153956  \n",
      "min        0.692308     32.540000   -124.350000      0.149990  \n",
      "25%        2.429741     33.930000   -121.800000      1.196000  \n",
      "50%        2.818116     34.260000   -118.490000      1.797000  \n",
      "75%        3.282261     37.710000   -118.010000      2.647250  \n",
      "max     1243.333333     41.950000   -114.310000      5.000010  \n"
     ]
    },
    {
     "data": {
      "text/plain": [
       "<Figure size 1200x800 with 0 Axes>"
      ]
     },
     "metadata": {},
     "output_type": "display_data"
    }
   ],
   "source": [
    "import numpy as np\n",
    "import matplotlib.pyplot as plt\n",
    "import seaborn as sns\n",
    "from pathlib import Path\n",
    "import time\n",
    "\n",
    "# Distinguish column types\n",
    "numeric_cols = housing_df.select_dtypes(include=[np.number]).columns.tolist()\n",
    "\n",
    "# Calculate the correlation matrix\n",
    "correlation_matrix = housing_df[numeric_cols].corr()\n",
    "\n",
    "# Plot the correlation matrix heatmap\n",
    "timestamp = int(time.time())\n",
    "save_dir = Path(\"/Users/tuozhou/Desktop/RA/SZRI/ML_Assistant/data/output/image\")\n",
    "save_dir.mkdir(parents=True, exist_ok=True)\n",
    "file_name = f'correlation_matrix_{timestamp}.png'\n",
    "file_path = save_dir / file_name\n",
    "\n",
    "plt.figure(figsize=(12, 8))\n",
    "sns.heatmap(correlation_matrix, annot=True, cmap='coolwarm', fmt='.2f')\n",
    "plt.title('Correlation Matrix')\n",
    "plt.savefig(file_path)\n",
    "plt.clf()\n",
    "print(f'Image saved to: {file_path}')\n",
    "\n",
    "# Describe the dataset\n",
    "data_description = housing_df.describe()\n",
    "print(data_description)\n"
   ]
  },
  {
   "cell_type": "code",
   "execution_count": 4,
   "id": "51a8329d",
   "metadata": {
    "execution": {
     "iopub.execute_input": "2024-09-04T06:26:33.210148Z",
     "iopub.status.busy": "2024-09-04T06:26:33.209605Z",
     "iopub.status.idle": "2024-09-04T06:26:34.085619Z",
     "shell.execute_reply": "2024-09-04T06:26:34.085128Z"
    }
   },
   "outputs": [
    {
     "name": "stderr",
     "output_type": "stream",
     "text": [
      "2024-09-04 14:26:33.322 | INFO     | metagpt.const:get_metagpt_package_root:21 - Package root set to /Users/tuozhou/Desktop/RA/SZRI/ChatPilot\n"
     ]
    },
    {
     "name": "stdout",
     "output_type": "stream",
     "text": [
      "column_info\n",
      "{'Category': [], 'Numeric': ['MedInc', 'HouseAge', 'AveRooms', 'AveBedrms', 'Population', 'AveOccup', 'Latitude', 'Longitude', 'PRICE'], 'Datetime': [], 'Others': []}\n"
     ]
    }
   ],
   "source": [
    "from metagpt.tools.libs.data_preprocess import get_column_info\n",
    "\n",
    "column_info = get_column_info(housing_df)\n",
    "print(\"column_info\")\n",
    "print(column_info)\n"
   ]
  },
  {
   "cell_type": "code",
   "execution_count": 5,
   "id": "acbff7f0",
   "metadata": {
    "execution": {
     "iopub.execute_input": "2024-09-04T06:26:42.066476Z",
     "iopub.status.busy": "2024-09-04T06:26:42.065199Z",
     "iopub.status.idle": "2024-09-04T06:26:42.116856Z",
     "shell.execute_reply": "2024-09-04T06:26:42.116431Z"
    }
   },
   "outputs": [
    {
     "name": "stdout",
     "output_type": "stream",
     "text": [
      "                            OLS Regression Results                            \n",
      "==============================================================================\n",
      "Dep. Variable:                  PRICE   R-squared:                       0.613\n",
      "Model:                            OLS   Adj. R-squared:                  0.612\n",
      "Method:                 Least Squares   F-statistic:                     3261.\n",
      "Date:                Wed, 04 Sep 2024   Prob (F-statistic):               0.00\n",
      "Time:                        14:26:42   Log-Likelihood:                -17998.\n",
      "No. Observations:               16512   AIC:                         3.601e+04\n",
      "Df Residuals:                   16503   BIC:                         3.608e+04\n",
      "Df Model:                           8                                         \n",
      "Covariance Type:            nonrobust                                         \n",
      "==============================================================================\n",
      "                 coef    std err          t      P>|t|      [0.025      0.975]\n",
      "------------------------------------------------------------------------------\n",
      "const        -37.0233      0.728    -50.835      0.000     -38.451     -35.596\n",
      "MedInc         0.4487      0.005     95.697      0.000       0.439       0.458\n",
      "HouseAge       0.0097      0.000     19.665      0.000       0.009       0.011\n",
      "AveRooms      -0.1233      0.007    -18.677      0.000      -0.136      -0.110\n",
      "AveBedrms      0.7831      0.033     23.556      0.000       0.718       0.848\n",
      "Population  -2.03e-06   5.25e-06     -0.387      0.699   -1.23e-05    8.26e-06\n",
      "AveOccup      -0.0035      0.000     -7.253      0.000      -0.004      -0.003\n",
      "Latitude      -0.4198      0.008    -52.767      0.000      -0.435      -0.404\n",
      "Longitude     -0.4337      0.008    -52.117      0.000      -0.450      -0.417\n",
      "==============================================================================\n",
      "Omnibus:                     3333.187   Durbin-Watson:                   1.962\n",
      "Prob(Omnibus):                  0.000   Jarque-Bera (JB):             9371.466\n",
      "Skew:                           1.071   Prob(JB):                         0.00\n",
      "Kurtosis:                       6.006   Cond. No.                     2.38e+05\n",
      "==============================================================================\n",
      "\n",
      "Notes:\n",
      "[1] Standard Errors assume that the covariance matrix of the errors is correctly specified.\n",
      "[2] The condition number is large, 2.38e+05. This might indicate that there are\n",
      "strong multicollinearity or other numerical problems.\n",
      "20046    0.719123\n",
      "3024     1.764017\n",
      "15663    2.709659\n",
      "20484    2.838926\n",
      "9814     2.604657\n",
      "dtype: float64\n"
     ]
    }
   ],
   "source": [
    "import pandas as pd\n",
    "from sklearn.datasets import fetch_california_housing\n",
    "from sklearn.model_selection import train_test_split\n",
    "from sklearn.linear_model import LinearRegression\n",
    "import statsmodels.api as sm\n",
    "\n",
    "# Fetch the California housing dataset\n",
    "housing = fetch_california_housing()\n",
    "housing_df = pd.DataFrame(housing.data, columns=housing.feature_names)\n",
    "housing_df['PRICE'] = housing.target\n",
    "\n",
    "# Separate the features and target variable\n",
    "X = housing_df.drop('PRICE', axis=1)\n",
    "y = housing_df['PRICE']\n",
    "\n",
    "# Split the dataset into training and testing sets\n",
    "X_train, X_test, y_train, y_test = train_test_split(X, y, test_size=0.2, random_state=42)\n",
    "\n",
    "# Add a constant term to the predictors\n",
    "X_train_const = sm.add_constant(X_train)\n",
    "X_test_const = sm.add_constant(X_test)\n",
    "\n",
    "# Fit the Ordinary Least Squares (OLS) model\n",
    "model = sm.OLS(y_train, X_train_const).fit()\n",
    "\n",
    "# Print the model summary statistics\n",
    "print(model.summary())\n",
    "\n",
    "# Predict the values using the test set\n",
    "y_pred = model.predict(X_test_const)\n",
    "\n",
    "# Print the first 5 predicted values\n",
    "print(y_pred[:5])\n"
   ]
  },
  {
   "cell_type": "code",
   "execution_count": 6,
   "id": "3f185a8b",
   "metadata": {
    "execution": {
     "iopub.execute_input": "2024-09-04T06:26:45.906135Z",
     "iopub.status.busy": "2024-09-04T06:26:45.905547Z",
     "iopub.status.idle": "2024-09-04T06:26:45.912509Z",
     "shell.execute_reply": "2024-09-04T06:26:45.911609Z"
    }
   },
   "outputs": [
    {
     "name": "stdout",
     "output_type": "stream",
     "text": [
      "column_info\n",
      "{'Category': [], 'Numeric': ['MedInc', 'HouseAge', 'AveRooms', 'AveBedrms', 'Population', 'AveOccup', 'Latitude', 'Longitude', 'PRICE'], 'Datetime': [], 'Others': []}\n"
     ]
    }
   ],
   "source": [
    "from metagpt.tools.libs.data_preprocess import get_column_info\n",
    "\n",
    "# Assuming housing_df is the DataFrame variable from 'Finished Tasks'\n",
    "column_info = get_column_info(housing_df)\n",
    "print(\"column_info\")\n",
    "print(column_info)\n"
   ]
  },
  {
   "cell_type": "code",
   "execution_count": 7,
   "id": "d5081f59",
   "metadata": {
    "execution": {
     "iopub.execute_input": "2024-09-04T06:26:50.215927Z",
     "iopub.status.busy": "2024-09-04T06:26:50.215382Z",
     "iopub.status.idle": "2024-09-04T06:26:53.024349Z",
     "shell.execute_reply": "2024-09-04T06:26:53.023964Z"
    }
   },
   "outputs": [
    {
     "name": "stdout",
     "output_type": "stream",
     "text": [
      "Mean Squared Error: 0.2939973248643864\n",
      "R-squared: 0.7756446042829697\n",
      "[0.50518761 1.09334601 4.24570956 2.54517359 2.27910301]\n"
     ]
    }
   ],
   "source": [
    "# Import necessary libraries\n",
    "from sklearn.ensemble import GradientBoostingRegressor\n",
    "from sklearn.metrics import mean_squared_error, r2_score\n",
    "\n",
    "# Train the Gradient Boosting Regressor model\n",
    "gbr = GradientBoostingRegressor(n_estimators=100, learning_rate=0.1, max_depth=3, random_state=42)\n",
    "gbr.fit(X_train, y_train)\n",
    "\n",
    "# Predict on the test set\n",
    "y_pred_gbr = gbr.predict(X_test)\n",
    "\n",
    "# Calculate performance metrics\n",
    "mse = mean_squared_error(y_test, y_pred_gbr)\n",
    "r2 = r2_score(y_test, y_pred_gbr)\n",
    "\n",
    "# Print performance metrics\n",
    "print(f\"Mean Squared Error: {mse}\")\n",
    "print(f\"R-squared: {r2}\")\n",
    "\n",
    "# Print the first 5 predictions\n",
    "print(y_pred_gbr[:5])\n"
   ]
  },
  {
   "cell_type": "code",
   "execution_count": 8,
   "id": "28fc3e1a",
   "metadata": {
    "execution": {
     "iopub.execute_input": "2024-09-04T06:26:56.020392Z",
     "iopub.status.busy": "2024-09-04T06:26:56.019892Z",
     "iopub.status.idle": "2024-09-04T06:26:56.036146Z",
     "shell.execute_reply": "2024-09-04T06:26:56.035607Z"
    }
   },
   "outputs": [
    {
     "name": "stdout",
     "output_type": "stream",
     "text": [
      "                            OLS Regression Results                            \n",
      "==============================================================================\n",
      "Dep. Variable:                  PRICE   R-squared:                       0.613\n",
      "Model:                            OLS   Adj. R-squared:                  0.612\n",
      "Method:                 Least Squares   F-statistic:                     3261.\n",
      "Date:                Wed, 04 Sep 2024   Prob (F-statistic):               0.00\n",
      "Time:                        14:26:56   Log-Likelihood:                -17998.\n",
      "No. Observations:               16512   AIC:                         3.601e+04\n",
      "Df Residuals:                   16503   BIC:                         3.608e+04\n",
      "Df Model:                           8                                         \n",
      "Covariance Type:            nonrobust                                         \n",
      "==============================================================================\n",
      "                 coef    std err          t      P>|t|      [0.025      0.975]\n",
      "------------------------------------------------------------------------------\n",
      "const        -37.0233      0.728    -50.835      0.000     -38.451     -35.596\n",
      "MedInc         0.4487      0.005     95.697      0.000       0.439       0.458\n",
      "HouseAge       0.0097      0.000     19.665      0.000       0.009       0.011\n",
      "AveRooms      -0.1233      0.007    -18.677      0.000      -0.136      -0.110\n",
      "AveBedrms      0.7831      0.033     23.556      0.000       0.718       0.848\n",
      "Population  -2.03e-06   5.25e-06     -0.387      0.699   -1.23e-05    8.26e-06\n",
      "AveOccup      -0.0035      0.000     -7.253      0.000      -0.004      -0.003\n",
      "Latitude      -0.4198      0.008    -52.767      0.000      -0.435      -0.404\n",
      "Longitude     -0.4337      0.008    -52.117      0.000      -0.450      -0.417\n",
      "==============================================================================\n",
      "Omnibus:                     3333.187   Durbin-Watson:                   1.962\n",
      "Prob(Omnibus):                  0.000   Jarque-Bera (JB):             9371.466\n",
      "Skew:                           1.071   Prob(JB):                         0.00\n",
      "Kurtosis:                       6.006   Cond. No.                     2.38e+05\n",
      "==============================================================================\n",
      "\n",
      "Notes:\n",
      "[1] Standard Errors assume that the covariance matrix of the errors is correctly specified.\n",
      "[2] The condition number is large, 2.38e+05. This might indicate that there are\n",
      "strong multicollinearity or other numerical problems.\n"
     ]
    }
   ],
   "source": [
    "# Evaluate the model and print out the regression summary statistics table for the estimated coefficients\n",
    "\n",
    "# The model has already been trained and evaluated in the previous steps.\n",
    "# We will use the trained model to print out the regression summary statistics table for the estimated coefficients.\n",
    "\n",
    "# Print the summary of the trained model\n",
    "print(model.summary())\n"
   ]
  }
 ],
 "metadata": {},
 "nbformat": 4,
 "nbformat_minor": 5
}
