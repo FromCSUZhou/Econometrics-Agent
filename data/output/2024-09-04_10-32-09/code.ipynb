{
 "cells": [
  {
   "cell_type": "code",
   "execution_count": 1,
   "id": "4698ec16",
   "metadata": {
    "execution": {
     "iopub.execute_input": "2024-09-04T02:31:42.983711Z",
     "iopub.status.busy": "2024-09-04T02:31:42.981849Z",
     "iopub.status.idle": "2024-09-04T02:31:44.770184Z",
     "shell.execute_reply": "2024-09-04T02:31:44.769527Z"
    }
   },
   "outputs": [
    {
     "ename": "ImportError",
     "evalue": "\n`load_boston` has been removed from scikit-learn since version 1.2.\n\nThe Boston housing prices dataset has an ethical problem: as\ninvestigated in [1], the authors of this dataset engineered a\nnon-invertible variable \"B\" assuming that racial self-segregation had a\npositive impact on house prices [2]. Furthermore the goal of the\nresearch that led to the creation of this dataset was to study the\nimpact of air quality but it did not give adequate demonstration of the\nvalidity of this assumption.\n\nThe scikit-learn maintainers therefore strongly discourage the use of\nthis dataset unless the purpose of the code is to study and educate\nabout ethical issues in data science and machine learning.\n\nIn this special case, you can fetch the dataset from the original\nsource::\n\n    import pandas as pd\n    import numpy as np\n\n    data_url = \"http://lib.stat.cmu.edu/datasets/boston\"\n    raw_df = pd.read_csv(data_url, sep=\"\\s+\", skiprows=22, header=None)\n    data = np.hstack([raw_df.values[::2, :], raw_df.values[1::2, :2]])\n    target = raw_df.values[1::2, 2]\n\nAlternative datasets include the California housing dataset and the\nAmes housing dataset. You can load the datasets as follows::\n\n    from sklearn.datasets import fetch_california_housing\n    housing = fetch_california_housing()\n\nfor the California housing dataset and::\n\n    from sklearn.datasets import fetch_openml\n    housing = fetch_openml(name=\"house_prices\", as_frame=True)\n\nfor the Ames housing dataset.\n\n[1] M Carlisle.\n\"Racist data destruction?\"\n<https://medium.com/@docintangible/racist-data-destruction-113e3eff54a8>\n\n[2] Harrison Jr, David, and Daniel L. Rubinfeld.\n\"Hedonic housing prices and the demand for clean air.\"\nJournal of environmental economics and management 5.1 (1978): 81-102.\n<https://www.researchgate.net/publication/4974606_Hedonic_housing_prices_and_the_demand_for_clean_air>\n",
     "output_type": "error",
     "traceback": [
      "\u001b[0;31m---------------------------------------------------------------------------\u001b[0m",
      "\u001b[0;31mImportError\u001b[0m                               Traceback (most recent call last)",
      "Cell \u001b[0;32mIn[1], line 7\u001b[0m\n\u001b[1;32m      5\u001b[0m \u001b[38;5;28;01mfrom\u001b[39;00m \u001b[38;5;21;01mpathlib\u001b[39;00m \u001b[38;5;28;01mimport\u001b[39;00m Path\n\u001b[1;32m      6\u001b[0m \u001b[38;5;28;01mimport\u001b[39;00m \u001b[38;5;21;01mtime\u001b[39;00m\n\u001b[0;32m----> 7\u001b[0m \u001b[38;5;28;01mfrom\u001b[39;00m \u001b[38;5;21;01msklearn\u001b[39;00m\u001b[38;5;21;01m.\u001b[39;00m\u001b[38;5;21;01mdatasets\u001b[39;00m \u001b[38;5;28;01mimport\u001b[39;00m load_boston\n\u001b[1;32m      9\u001b[0m \u001b[38;5;66;03m# Load the Boston house price dataset\u001b[39;00m\n\u001b[1;32m     10\u001b[0m boston \u001b[38;5;241m=\u001b[39m load_boston()\n",
      "File \u001b[0;32m~/opt/anaconda3/envs/chatpilot/lib/python3.10/site-packages/sklearn/datasets/__init__.py:157\u001b[0m, in \u001b[0;36m__getattr__\u001b[0;34m(name)\u001b[0m\n\u001b[1;32m    108\u001b[0m \u001b[38;5;28;01mif\u001b[39;00m name \u001b[38;5;241m==\u001b[39m \u001b[38;5;124m\"\u001b[39m\u001b[38;5;124mload_boston\u001b[39m\u001b[38;5;124m\"\u001b[39m:\n\u001b[1;32m    109\u001b[0m     msg \u001b[38;5;241m=\u001b[39m textwrap\u001b[38;5;241m.\u001b[39mdedent(\u001b[38;5;124m\"\"\"\u001b[39m\n\u001b[1;32m    110\u001b[0m \u001b[38;5;124m        `load_boston` has been removed from scikit-learn since version 1.2.\u001b[39m\n\u001b[1;32m    111\u001b[0m \n\u001b[0;32m   (...)\u001b[0m\n\u001b[1;32m    155\u001b[0m \u001b[38;5;124m        <https://www.researchgate.net/publication/4974606_Hedonic_housing_prices_and_the_demand_for_clean_air>\u001b[39m\n\u001b[1;32m    156\u001b[0m \u001b[38;5;124m        \u001b[39m\u001b[38;5;124m\"\"\"\u001b[39m)\n\u001b[0;32m--> 157\u001b[0m     \u001b[38;5;28;01mraise\u001b[39;00m \u001b[38;5;167;01mImportError\u001b[39;00m(msg)\n\u001b[1;32m    158\u001b[0m \u001b[38;5;28;01mtry\u001b[39;00m:\n\u001b[1;32m    159\u001b[0m     \u001b[38;5;28;01mreturn\u001b[39;00m \u001b[38;5;28mglobals\u001b[39m()[name]\n",
      "\u001b[0;31mImportError\u001b[0m: \n`load_boston` has been removed from scikit-learn since version 1.2.\n\nThe Boston housing prices dataset has an ethical problem: as\ninvestigated in [1], the authors of this dataset engineered a\nnon-invertible variable \"B\" assuming that racial self-segregation had a\npositive impact on house prices [2]. Furthermore the goal of the\nresearch that led to the creation of this dataset was to study the\nimpact of air quality but it did not give adequate demonstration of the\nvalidity of this assumption.\n\nThe scikit-learn maintainers therefore strongly discourage the use of\nthis dataset unless the purpose of the code is to study and educate\nabout ethical issues in data science and machine learning.\n\nIn this special case, you can fetch the dataset from the original\nsource::\n\n    import pandas as pd\n    import numpy as np\n\n    data_url = \"http://lib.stat.cmu.edu/datasets/boston\"\n    raw_df = pd.read_csv(data_url, sep=\"\\s+\", skiprows=22, header=None)\n    data = np.hstack([raw_df.values[::2, :], raw_df.values[1::2, :2]])\n    target = raw_df.values[1::2, 2]\n\nAlternative datasets include the California housing dataset and the\nAmes housing dataset. You can load the datasets as follows::\n\n    from sklearn.datasets import fetch_california_housing\n    housing = fetch_california_housing()\n\nfor the California housing dataset and::\n\n    from sklearn.datasets import fetch_openml\n    housing = fetch_openml(name=\"house_prices\", as_frame=True)\n\nfor the Ames housing dataset.\n\n[1] M Carlisle.\n\"Racist data destruction?\"\n<https://medium.com/@docintangible/racist-data-destruction-113e3eff54a8>\n\n[2] Harrison Jr, David, and Daniel L. Rubinfeld.\n\"Hedonic housing prices and the demand for clean air.\"\nJournal of environmental economics and management 5.1 (1978): 81-102.\n<https://www.researchgate.net/publication/4974606_Hedonic_housing_prices_and_the_demand_for_clean_air>\n"
     ]
    }
   ],
   "source": [
    "import pandas as pd\n",
    "import numpy as np\n",
    "import seaborn as sns\n",
    "import matplotlib.pyplot as plt\n",
    "from pathlib import Path\n",
    "import time\n",
    "from sklearn.datasets import load_boston\n",
    "\n",
    "# Load the Boston house price dataset\n",
    "boston = load_boston()\n",
    "df = pd.DataFrame(boston.data, columns=boston.feature_names)\n",
    "df['PRICE'] = boston.target\n",
    "\n",
    "# Distinguish column types\n",
    "numeric_cols = df.select_dtypes(include=[np.number]).columns.tolist()\n",
    "categorical_cols = df.select_dtypes(exclude=[np.number]).columns.tolist()\n",
    "\n",
    "# Summary statistics for numeric columns\n",
    "numeric_summary = df[numeric_cols].describe()\n",
    "\n",
    "# Correlation matrix for numeric columns\n",
    "correlation_matrix = df[numeric_cols].corr()\n",
    "\n",
    "# Visualize the correlation matrix\n",
    "timestamp = int(time.time())\n",
    "save_dir = Path(\"/Users/tuozhou/Desktop/RA/SZRI/ML_Assistant/data/output/image\")\n",
    "save_dir.mkdir(parents=True, exist_ok=True)\n",
    "file_name = f'correlation_matrix_{timestamp}.png'\n",
    "file_path = save_dir / file_name\n",
    "plt.figure(figsize=(12, 8))\n",
    "sns.heatmap(correlation_matrix, annot=True, cmap='coolwarm', fmt='.2f')\n",
    "plt.title('Correlation Matrix')\n",
    "plt.savefig(file_path)\n",
    "plt.clf()\n",
    "print(f'Image saved to: {file_path}')\n",
    "\n",
    "# Display the summary statistics\n",
    "numeric_summary\n"
   ]
  },
  {
   "cell_type": "code",
   "execution_count": 2,
   "id": "182cfce9",
   "metadata": {
    "execution": {
     "iopub.execute_input": "2024-09-04T02:31:48.694808Z",
     "iopub.status.busy": "2024-09-04T02:31:48.694444Z",
     "iopub.status.idle": "2024-09-04T02:31:49.079530Z",
     "shell.execute_reply": "2024-09-04T02:31:49.079238Z"
    }
   },
   "outputs": [
    {
     "name": "stdout",
     "output_type": "stream",
     "text": [
      "Image saved to: /Users/tuozhou/Desktop/RA/SZRI/ML_Assistant/data/output/image/correlation_matrix_1725417108.png\n"
     ]
    },
    {
     "data": {
      "text/html": [
       "<div>\n",
       "<style scoped>\n",
       "    .dataframe tbody tr th:only-of-type {\n",
       "        vertical-align: middle;\n",
       "    }\n",
       "\n",
       "    .dataframe tbody tr th {\n",
       "        vertical-align: top;\n",
       "    }\n",
       "\n",
       "    .dataframe thead th {\n",
       "        text-align: right;\n",
       "    }\n",
       "</style>\n",
       "<table border=\"1\" class=\"dataframe\">\n",
       "  <thead>\n",
       "    <tr style=\"text-align: right;\">\n",
       "      <th></th>\n",
       "      <th>MedInc</th>\n",
       "      <th>HouseAge</th>\n",
       "      <th>AveRooms</th>\n",
       "      <th>AveBedrms</th>\n",
       "      <th>Population</th>\n",
       "      <th>AveOccup</th>\n",
       "      <th>Latitude</th>\n",
       "      <th>Longitude</th>\n",
       "      <th>MedHouseVal</th>\n",
       "    </tr>\n",
       "  </thead>\n",
       "  <tbody>\n",
       "    <tr>\n",
       "      <th>count</th>\n",
       "      <td>20640.000000</td>\n",
       "      <td>20640.000000</td>\n",
       "      <td>20640.000000</td>\n",
       "      <td>20640.000000</td>\n",
       "      <td>20640.000000</td>\n",
       "      <td>20640.000000</td>\n",
       "      <td>20640.000000</td>\n",
       "      <td>20640.000000</td>\n",
       "      <td>20640.000000</td>\n",
       "    </tr>\n",
       "    <tr>\n",
       "      <th>mean</th>\n",
       "      <td>3.870671</td>\n",
       "      <td>28.639486</td>\n",
       "      <td>5.429000</td>\n",
       "      <td>1.096675</td>\n",
       "      <td>1425.476744</td>\n",
       "      <td>3.070655</td>\n",
       "      <td>35.631861</td>\n",
       "      <td>-119.569704</td>\n",
       "      <td>2.068558</td>\n",
       "    </tr>\n",
       "    <tr>\n",
       "      <th>std</th>\n",
       "      <td>1.899822</td>\n",
       "      <td>12.585558</td>\n",
       "      <td>2.474173</td>\n",
       "      <td>0.473911</td>\n",
       "      <td>1132.462122</td>\n",
       "      <td>10.386050</td>\n",
       "      <td>2.135952</td>\n",
       "      <td>2.003532</td>\n",
       "      <td>1.153956</td>\n",
       "    </tr>\n",
       "    <tr>\n",
       "      <th>min</th>\n",
       "      <td>0.499900</td>\n",
       "      <td>1.000000</td>\n",
       "      <td>0.846154</td>\n",
       "      <td>0.333333</td>\n",
       "      <td>3.000000</td>\n",
       "      <td>0.692308</td>\n",
       "      <td>32.540000</td>\n",
       "      <td>-124.350000</td>\n",
       "      <td>0.149990</td>\n",
       "    </tr>\n",
       "    <tr>\n",
       "      <th>25%</th>\n",
       "      <td>2.563400</td>\n",
       "      <td>18.000000</td>\n",
       "      <td>4.440716</td>\n",
       "      <td>1.006079</td>\n",
       "      <td>787.000000</td>\n",
       "      <td>2.429741</td>\n",
       "      <td>33.930000</td>\n",
       "      <td>-121.800000</td>\n",
       "      <td>1.196000</td>\n",
       "    </tr>\n",
       "    <tr>\n",
       "      <th>50%</th>\n",
       "      <td>3.534800</td>\n",
       "      <td>29.000000</td>\n",
       "      <td>5.229129</td>\n",
       "      <td>1.048780</td>\n",
       "      <td>1166.000000</td>\n",
       "      <td>2.818116</td>\n",
       "      <td>34.260000</td>\n",
       "      <td>-118.490000</td>\n",
       "      <td>1.797000</td>\n",
       "    </tr>\n",
       "    <tr>\n",
       "      <th>75%</th>\n",
       "      <td>4.743250</td>\n",
       "      <td>37.000000</td>\n",
       "      <td>6.052381</td>\n",
       "      <td>1.099526</td>\n",
       "      <td>1725.000000</td>\n",
       "      <td>3.282261</td>\n",
       "      <td>37.710000</td>\n",
       "      <td>-118.010000</td>\n",
       "      <td>2.647250</td>\n",
       "    </tr>\n",
       "    <tr>\n",
       "      <th>max</th>\n",
       "      <td>15.000100</td>\n",
       "      <td>52.000000</td>\n",
       "      <td>141.909091</td>\n",
       "      <td>34.066667</td>\n",
       "      <td>35682.000000</td>\n",
       "      <td>1243.333333</td>\n",
       "      <td>41.950000</td>\n",
       "      <td>-114.310000</td>\n",
       "      <td>5.000010</td>\n",
       "    </tr>\n",
       "  </tbody>\n",
       "</table>\n",
       "</div>"
      ],
      "text/plain": [
       "             MedInc      HouseAge      AveRooms     AveBedrms    Population  \\\n",
       "count  20640.000000  20640.000000  20640.000000  20640.000000  20640.000000   \n",
       "mean       3.870671     28.639486      5.429000      1.096675   1425.476744   \n",
       "std        1.899822     12.585558      2.474173      0.473911   1132.462122   \n",
       "min        0.499900      1.000000      0.846154      0.333333      3.000000   \n",
       "25%        2.563400     18.000000      4.440716      1.006079    787.000000   \n",
       "50%        3.534800     29.000000      5.229129      1.048780   1166.000000   \n",
       "75%        4.743250     37.000000      6.052381      1.099526   1725.000000   \n",
       "max       15.000100     52.000000    141.909091     34.066667  35682.000000   \n",
       "\n",
       "           AveOccup      Latitude     Longitude   MedHouseVal  \n",
       "count  20640.000000  20640.000000  20640.000000  20640.000000  \n",
       "mean       3.070655     35.631861   -119.569704      2.068558  \n",
       "std       10.386050      2.135952      2.003532      1.153956  \n",
       "min        0.692308     32.540000   -124.350000      0.149990  \n",
       "25%        2.429741     33.930000   -121.800000      1.196000  \n",
       "50%        2.818116     34.260000   -118.490000      1.797000  \n",
       "75%        3.282261     37.710000   -118.010000      2.647250  \n",
       "max     1243.333333     41.950000   -114.310000      5.000010  "
      ]
     },
     "execution_count": 2,
     "metadata": {},
     "output_type": "execute_result"
    },
    {
     "data": {
      "text/plain": [
       "<Figure size 1200x800 with 0 Axes>"
      ]
     },
     "metadata": {},
     "output_type": "display_data"
    }
   ],
   "source": [
    "import pandas as pd\n",
    "import numpy as np\n",
    "import seaborn as sns\n",
    "import matplotlib.pyplot as plt\n",
    "from pathlib import Path\n",
    "import time\n",
    "from sklearn.datasets import fetch_california_housing\n",
    "\n",
    "# Load the California housing dataset\n",
    "housing = fetch_california_housing()\n",
    "df = pd.DataFrame(housing.data, columns=housing.feature_names)\n",
    "df['MedHouseVal'] = housing.target\n",
    "\n",
    "# Distinguish column types\n",
    "numeric_cols = df.select_dtypes(include=[np.number]).columns.tolist()\n",
    "categorical_cols = df.select_dtypes(exclude=[np.number]).columns.tolist()\n",
    "\n",
    "# Summary statistics for numeric columns\n",
    "numeric_summary = df[numeric_cols].describe()\n",
    "\n",
    "# Correlation matrix for numeric columns\n",
    "correlation_matrix = df[numeric_cols].corr()\n",
    "\n",
    "# Visualize the correlation matrix\n",
    "timestamp = int(time.time())\n",
    "save_dir = Path(\"/Users/tuozhou/Desktop/RA/SZRI/ML_Assistant/data/output/image\")\n",
    "save_dir.mkdir(parents=True, exist_ok=True)\n",
    "file_name = f'correlation_matrix_{timestamp}.png'\n",
    "file_path = save_dir / file_name\n",
    "plt.figure(figsize=(12, 8))\n",
    "sns.heatmap(correlation_matrix, annot=True, cmap='coolwarm', fmt='.2f')\n",
    "plt.title('Correlation Matrix')\n",
    "plt.savefig(file_path)\n",
    "plt.clf()\n",
    "print(f'Image saved to: {file_path}')\n",
    "\n",
    "# Display the summary statistics\n",
    "numeric_summary\n"
   ]
  },
  {
   "cell_type": "code",
   "execution_count": 3,
   "id": "4c96bb42",
   "metadata": {
    "execution": {
     "iopub.execute_input": "2024-09-04T02:31:51.476993Z",
     "iopub.status.busy": "2024-09-04T02:31:51.476774Z",
     "iopub.status.idle": "2024-09-04T02:31:52.636526Z",
     "shell.execute_reply": "2024-09-04T02:31:52.636133Z"
    }
   },
   "outputs": [
    {
     "name": "stderr",
     "output_type": "stream",
     "text": [
      "2024-09-04 10:31:51.738 | INFO     | metagpt.const:get_metagpt_package_root:21 - Package root set to /Users/tuozhou/Desktop/RA/SZRI/ChatPilot\n"
     ]
    },
    {
     "name": "stdout",
     "output_type": "stream",
     "text": [
      "column_info\n",
      "{'Category': [], 'Numeric': ['MedInc', 'HouseAge', 'AveRooms', 'AveBedrms', 'Population', 'AveOccup', 'Latitude', 'Longitude', 'MedHouseVal'], 'Datetime': [], 'Others': []}\n"
     ]
    }
   ],
   "source": [
    "from metagpt.tools.libs.data_preprocess import get_column_info\n",
    "\n",
    "column_info = get_column_info(df)\n",
    "print(\"column_info\")\n",
    "print(column_info)\n"
   ]
  },
  {
   "cell_type": "code",
   "execution_count": 4,
   "id": "332b9912",
   "metadata": {
    "execution": {
     "iopub.execute_input": "2024-09-04T02:31:54.972006Z",
     "iopub.status.busy": "2024-09-04T02:31:54.971102Z",
     "iopub.status.idle": "2024-09-04T02:31:54.993421Z",
     "shell.execute_reply": "2024-09-04T02:31:54.993091Z"
    }
   },
   "outputs": [
    {
     "data": {
      "text/html": [
       "<div>\n",
       "<style scoped>\n",
       "    .dataframe tbody tr th:only-of-type {\n",
       "        vertical-align: middle;\n",
       "    }\n",
       "\n",
       "    .dataframe tbody tr th {\n",
       "        vertical-align: top;\n",
       "    }\n",
       "\n",
       "    .dataframe thead th {\n",
       "        text-align: right;\n",
       "    }\n",
       "</style>\n",
       "<table border=\"1\" class=\"dataframe\">\n",
       "  <thead>\n",
       "    <tr style=\"text-align: right;\">\n",
       "      <th></th>\n",
       "      <th>MedInc</th>\n",
       "      <th>HouseAge</th>\n",
       "      <th>AveRooms</th>\n",
       "      <th>AveBedrms</th>\n",
       "      <th>Population</th>\n",
       "      <th>AveOccup</th>\n",
       "      <th>Latitude</th>\n",
       "      <th>Longitude</th>\n",
       "      <th>MedHouseVal</th>\n",
       "    </tr>\n",
       "  </thead>\n",
       "  <tbody>\n",
       "    <tr>\n",
       "      <th>14196</th>\n",
       "      <td>-0.326196</td>\n",
       "      <td>0.348490</td>\n",
       "      <td>-0.174916</td>\n",
       "      <td>-0.208365</td>\n",
       "      <td>0.768276</td>\n",
       "      <td>0.051376</td>\n",
       "      <td>-1.372811</td>\n",
       "      <td>1.272587</td>\n",
       "      <td>1.030</td>\n",
       "    </tr>\n",
       "    <tr>\n",
       "      <th>8267</th>\n",
       "      <td>-0.035843</td>\n",
       "      <td>1.618118</td>\n",
       "      <td>-0.402835</td>\n",
       "      <td>-0.128530</td>\n",
       "      <td>-0.098901</td>\n",
       "      <td>-0.117362</td>\n",
       "      <td>-0.876696</td>\n",
       "      <td>0.709162</td>\n",
       "      <td>3.821</td>\n",
       "    </tr>\n",
       "    <tr>\n",
       "      <th>17445</th>\n",
       "      <td>0.144701</td>\n",
       "      <td>-1.952710</td>\n",
       "      <td>0.088216</td>\n",
       "      <td>-0.257538</td>\n",
       "      <td>-0.449818</td>\n",
       "      <td>-0.032280</td>\n",
       "      <td>-0.460146</td>\n",
       "      <td>-0.447603</td>\n",
       "      <td>1.726</td>\n",
       "    </tr>\n",
       "    <tr>\n",
       "      <th>14265</th>\n",
       "      <td>-1.017864</td>\n",
       "      <td>0.586545</td>\n",
       "      <td>-0.600015</td>\n",
       "      <td>-0.145156</td>\n",
       "      <td>-0.007434</td>\n",
       "      <td>0.077507</td>\n",
       "      <td>-1.382172</td>\n",
       "      <td>1.232698</td>\n",
       "      <td>0.934</td>\n",
       "    </tr>\n",
       "    <tr>\n",
       "      <th>2271</th>\n",
       "      <td>-0.171488</td>\n",
       "      <td>1.142008</td>\n",
       "      <td>0.349007</td>\n",
       "      <td>0.086624</td>\n",
       "      <td>-0.485877</td>\n",
       "      <td>-0.068832</td>\n",
       "      <td>0.532084</td>\n",
       "      <td>-0.108551</td>\n",
       "      <td>0.965</td>\n",
       "    </tr>\n",
       "  </tbody>\n",
       "</table>\n",
       "</div>"
      ],
      "text/plain": [
       "         MedInc  HouseAge  AveRooms  AveBedrms  Population  AveOccup  \\\n",
       "14196 -0.326196  0.348490 -0.174916  -0.208365    0.768276  0.051376   \n",
       "8267  -0.035843  1.618118 -0.402835  -0.128530   -0.098901 -0.117362   \n",
       "17445  0.144701 -1.952710  0.088216  -0.257538   -0.449818 -0.032280   \n",
       "14265 -1.017864  0.586545 -0.600015  -0.145156   -0.007434  0.077507   \n",
       "2271  -0.171488  1.142008  0.349007   0.086624   -0.485877 -0.068832   \n",
       "\n",
       "       Latitude  Longitude  MedHouseVal  \n",
       "14196 -1.372811   1.272587        1.030  \n",
       "8267  -0.876696   0.709162        3.821  \n",
       "17445 -0.460146  -0.447603        1.726  \n",
       "14265 -1.382172   1.232698        0.934  \n",
       "2271   0.532084  -0.108551        0.965  "
      ]
     },
     "execution_count": 4,
     "metadata": {},
     "output_type": "execute_result"
    }
   ],
   "source": [
    "# Import necessary tools\n",
    "from metagpt.tools.libs.data_preprocess import StandardScale, MinMaxScale, RobustScale\n",
    "from sklearn.model_selection import train_test_split\n",
    "\n",
    "# Copy the DataFrame before processing\n",
    "df_copy = df.copy()\n",
    "\n",
    "# Split the data into train and test sets\n",
    "train_df, test_df = train_test_split(df_copy, test_size=0.2, random_state=42)\n",
    "\n",
    "# Initialize the scaler (StandardScaler in this case)\n",
    "scaler = StandardScale(features=['MedInc', 'HouseAge', 'AveRooms', 'AveBedrms', 'Population', 'AveOccup', 'Latitude', 'Longitude'])\n",
    "\n",
    "# Fit and transform the training data\n",
    "train_df_scaled = scaler.fit_transform(train_df)\n",
    "\n",
    "# Transform the test data\n",
    "test_df_scaled = scaler.transform(test_df)\n",
    "\n",
    "# Display the first few rows of the scaled training data\n",
    "train_df_scaled.head()\n"
   ]
  },
  {
   "cell_type": "code",
   "execution_count": 5,
   "id": "cbf7800f",
   "metadata": {
    "execution": {
     "iopub.execute_input": "2024-09-04T02:31:58.301058Z",
     "iopub.status.busy": "2024-09-04T02:31:58.300631Z",
     "iopub.status.idle": "2024-09-04T02:31:58.305989Z",
     "shell.execute_reply": "2024-09-04T02:31:58.305376Z"
    }
   },
   "outputs": [
    {
     "name": "stdout",
     "output_type": "stream",
     "text": [
      "column_info\n",
      "{'Category': [], 'Numeric': ['MedInc', 'HouseAge', 'AveRooms', 'AveBedrms', 'Population', 'AveOccup', 'Latitude', 'Longitude', 'MedHouseVal'], 'Datetime': [], 'Others': []}\n"
     ]
    }
   ],
   "source": [
    "from metagpt.tools.libs.data_preprocess import get_column_info\n",
    "\n",
    "# Assuming df_copy is the DataFrame variable from 'Finished Tasks'\n",
    "column_info = get_column_info(df_copy)\n",
    "print(\"column_info\")\n",
    "print(column_info)\n"
   ]
  },
  {
   "cell_type": "code",
   "execution_count": 6,
   "id": "e90065cb",
   "metadata": {
    "execution": {
     "iopub.execute_input": "2024-09-04T02:32:02.286371Z",
     "iopub.status.busy": "2024-09-04T02:32:02.286167Z",
     "iopub.status.idle": "2024-09-04T02:32:02.565255Z",
     "shell.execute_reply": "2024-09-04T02:32:02.564727Z"
    }
   },
   "outputs": [
    {
     "name": "stdout",
     "output_type": "stream",
     "text": [
      "Mean Squared Error: 0.5558915986952441\n",
      "R-squared: 0.575787706032451\n"
     ]
    },
    {
     "name": "stdout",
     "output_type": "stream",
     "text": [
      "Image saved to: /Users/tuozhou/Desktop/RA/SZRI/ML_Assistant/data/output/image/actual_vs_predicted_1725417122.png\n"
     ]
    },
    {
     "data": {
      "text/plain": [
       "<Figure size 1000x600 with 0 Axes>"
      ]
     },
     "metadata": {},
     "output_type": "display_data"
    }
   ],
   "source": [
    "# Import necessary libraries\n",
    "from sklearn.linear_model import LinearRegression\n",
    "from sklearn.metrics import mean_squared_error, r2_score\n",
    "\n",
    "# Prepare the data\n",
    "X_train = train_df_scaled.drop(columns=['MedHouseVal'])\n",
    "y_train = train_df_scaled['MedHouseVal']\n",
    "X_test = test_df_scaled.drop(columns=['MedHouseVal'])\n",
    "y_test = test_df_scaled['MedHouseVal']\n",
    "\n",
    "# Train the Linear Regression model\n",
    "model = LinearRegression()\n",
    "model.fit(X_train, y_train)\n",
    "\n",
    "# Predict\n",
    "y_pred = model.predict(X_test)\n",
    "\n",
    "# Evaluate the model\n",
    "mse = mean_squared_error(y_test, y_pred)\n",
    "r2 = r2_score(y_test, y_pred)\n",
    "\n",
    "# Output the performance metrics\n",
    "print(f'Mean Squared Error: {mse}')\n",
    "print(f'R-squared: {r2}')\n",
    "\n",
    "# Plot predicted vs actual values\n",
    "plt.figure(figsize=(10, 6))\n",
    "plt.scatter(y_test, y_pred, alpha=0.5)\n",
    "plt.plot([min(y_test), max(y_test)], [min(y_test), max(y_test)], 'r--')\n",
    "plt.xlabel('Actual')\n",
    "plt.ylabel('Predicted')\n",
    "plt.title('Linear Regression: Actual vs Predicted')\n",
    "timestamp = int(time.time())\n",
    "file_name = f'actual_vs_predicted_{timestamp}.png'\n",
    "file_path = save_dir / file_name\n",
    "plt.savefig(file_path)\n",
    "plt.clf()\n",
    "print(f'Image saved to: {file_path}')\n"
   ]
  },
  {
   "cell_type": "code",
   "execution_count": 7,
   "id": "a9be441b",
   "metadata": {
    "execution": {
     "iopub.execute_input": "2024-09-04T02:32:08.813508Z",
     "iopub.status.busy": "2024-09-04T02:32:08.813040Z",
     "iopub.status.idle": "2024-09-04T02:32:09.030066Z",
     "shell.execute_reply": "2024-09-04T02:32:09.029685Z"
    }
   },
   "outputs": [
    {
     "name": "stdout",
     "output_type": "stream",
     "text": [
      "Mean Squared Error: 0.5558915986952441\n",
      "Mean Absolute Error: 0.5332001304956565\n",
      "R-squared: 0.575787706032451\n",
      "Image saved to: /Users/tuozhou/Desktop/RA/SZRI/ML_Assistant/data/output/image/actual_vs_predicted_1725417128.png\n"
     ]
    },
    {
     "data": {
      "text/plain": [
       "<Figure size 1000x600 with 0 Axes>"
      ]
     },
     "metadata": {},
     "output_type": "display_data"
    }
   ],
   "source": [
    "# Evaluate the trained linear regression model\n",
    "\n",
    "# Import necessary libraries for evaluation\n",
    "from sklearn.metrics import mean_absolute_error, mean_squared_error, r2_score\n",
    "\n",
    "# Predict on the test set\n",
    "y_pred = model.predict(X_test)\n",
    "\n",
    "# Calculate evaluation metrics\n",
    "mse = mean_squared_error(y_test, y_pred)\n",
    "mae = mean_absolute_error(y_test, y_pred)\n",
    "r2 = r2_score(y_test, y_pred)\n",
    "\n",
    "# Print evaluation metrics\n",
    "print(f'Mean Squared Error: {mse}')\n",
    "print(f'Mean Absolute Error: {mae}')\n",
    "print(f'R-squared: {r2}')\n",
    "\n",
    "# Plot Actual vs Predicted values\n",
    "plt.figure(figsize=(10, 6))\n",
    "plt.scatter(y_test, y_pred, alpha=0.5)\n",
    "plt.plot([min(y_test), max(y_test)], [min(y_test), max(y_test)], 'r--')\n",
    "plt.xlabel('Actual')\n",
    "plt.ylabel('Predicted')\n",
    "plt.title('Linear Regression: Actual vs Predicted')\n",
    "\n",
    "# Save the plot\n",
    "timestamp = int(time.time())\n",
    "file_name = f'actual_vs_predicted_{timestamp}.png'\n",
    "file_path = save_dir / file_name\n",
    "plt.savefig(file_path)\n",
    "plt.clf()\n",
    "print(f'Image saved to: {file_path}')\n"
   ]
  }
 ],
 "metadata": {},
 "nbformat": 4,
 "nbformat_minor": 5
}
