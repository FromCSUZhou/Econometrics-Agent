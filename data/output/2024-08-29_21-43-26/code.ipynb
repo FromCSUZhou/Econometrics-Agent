{
 "cells": [
  {
   "cell_type": "code",
   "execution_count": 1,
   "id": "15982cb5",
   "metadata": {
    "execution": {
     "iopub.execute_input": "2024-08-29T13:40:06.397364Z",
     "iopub.status.busy": "2024-08-29T13:40:06.396198Z",
     "iopub.status.idle": "2024-08-29T13:40:07.077140Z",
     "shell.execute_reply": "2024-08-29T13:40:07.076541Z"
    }
   },
   "outputs": [
    {
     "ename": "ModuleNotFoundError",
     "evalue": "No module named 'seaborn'",
     "output_type": "error",
     "traceback": [
      "\u001b[0;31m---------------------------------------------------------------------------\u001b[0m",
      "\u001b[0;31mModuleNotFoundError\u001b[0m                       Traceback (most recent call last)",
      "Cell \u001b[0;32mIn[1], line 3\u001b[0m\n\u001b[1;32m      1\u001b[0m \u001b[38;5;28;01mimport\u001b[39;00m \u001b[38;5;21;01mpandas\u001b[39;00m \u001b[38;5;28;01mas\u001b[39;00m \u001b[38;5;21;01mpd\u001b[39;00m\n\u001b[1;32m      2\u001b[0m \u001b[38;5;28;01mimport\u001b[39;00m \u001b[38;5;21;01mnumpy\u001b[39;00m \u001b[38;5;28;01mas\u001b[39;00m \u001b[38;5;21;01mnp\u001b[39;00m\n\u001b[0;32m----> 3\u001b[0m \u001b[38;5;28;01mimport\u001b[39;00m \u001b[38;5;21;01mseaborn\u001b[39;00m \u001b[38;5;28;01mas\u001b[39;00m \u001b[38;5;21;01msns\u001b[39;00m\n\u001b[1;32m      4\u001b[0m \u001b[38;5;28;01mimport\u001b[39;00m \u001b[38;5;21;01mmatplotlib\u001b[39;00m\u001b[38;5;21;01m.\u001b[39;00m\u001b[38;5;21;01mpyplot\u001b[39;00m \u001b[38;5;28;01mas\u001b[39;00m \u001b[38;5;21;01mplt\u001b[39;00m\n\u001b[1;32m      5\u001b[0m \u001b[38;5;28;01mfrom\u001b[39;00m \u001b[38;5;21;01msklearn\u001b[39;00m\u001b[38;5;21;01m.\u001b[39;00m\u001b[38;5;21;01mdatasets\u001b[39;00m \u001b[38;5;28;01mimport\u001b[39;00m load_boston\n",
      "\u001b[0;31mModuleNotFoundError\u001b[0m: No module named 'seaborn'"
     ]
    }
   ],
   "source": [
    "import pandas as pd\n",
    "import numpy as np\n",
    "import seaborn as sns\n",
    "import matplotlib.pyplot as plt\n",
    "from sklearn.datasets import load_boston\n",
    "\n",
    "# Load the Boston house price dataset\n",
    "boston = load_boston()\n",
    "df = pd.DataFrame(boston.data, columns=boston.feature_names)\n",
    "df['PRICE'] = boston.target\n",
    "\n",
    "# Distinguish column types\n",
    "numeric_cols = df.select_dtypes(include=[np.number]).columns.tolist()\n",
    "categorical_cols = df.select_dtypes(exclude=[np.number]).columns.tolist()\n",
    "\n",
    "# Display basic statistics\n",
    "print(df.describe())\n",
    "\n",
    "# Correlation matrix\n",
    "corr_matrix = df.corr()\n",
    "plt.figure(figsize=(12, 8))\n",
    "sns.heatmap(corr_matrix, annot=True, cmap='coolwarm')\n",
    "plt.title('Correlation Matrix')\n",
    "plt.show()\n",
    "\n",
    "# Pairplot for selected features\n",
    "selected_features = ['RM', 'LSTAT', 'PTRATIO', 'PRICE']\n",
    "sns.pairplot(df[selected_features])\n",
    "plt.show()\n",
    "\n",
    "# Distribution of the target variable\n",
    "sns.histplot(df['PRICE'], kde=True)\n",
    "plt.title('Distribution of House Prices')\n",
    "plt.xlabel('Price')\n",
    "plt.ylabel('Frequency')\n",
    "plt.show()\n",
    "\n",
    "# Boxplot for numeric features\n",
    "plt.figure(figsize=(15, 10))\n",
    "df[numeric_cols].boxplot()\n",
    "plt.xticks(rotation=90)\n",
    "plt.title('Boxplot of Numeric Features')\n",
    "plt.show()\n"
   ]
  },
  {
   "cell_type": "code",
   "execution_count": 1,
   "id": "e4ac6155",
   "metadata": {
    "execution": {
     "iopub.execute_input": "2024-08-29T13:41:34.934580Z",
     "iopub.status.busy": "2024-08-29T13:41:34.933966Z",
     "iopub.status.idle": "2024-08-29T13:41:35.575428Z",
     "shell.execute_reply": "2024-08-29T13:41:35.574818Z"
    }
   },
   "outputs": [
    {
     "ename": "ModuleNotFoundError",
     "evalue": "No module named 'seaborn'",
     "output_type": "error",
     "traceback": [
      "\u001b[0;31m---------------------------------------------------------------------------\u001b[0m",
      "\u001b[0;31mModuleNotFoundError\u001b[0m                       Traceback (most recent call last)",
      "Cell \u001b[0;32mIn[1], line 3\u001b[0m\n\u001b[1;32m      1\u001b[0m \u001b[38;5;28;01mimport\u001b[39;00m \u001b[38;5;21;01mpandas\u001b[39;00m \u001b[38;5;28;01mas\u001b[39;00m \u001b[38;5;21;01mpd\u001b[39;00m\n\u001b[1;32m      2\u001b[0m \u001b[38;5;28;01mimport\u001b[39;00m \u001b[38;5;21;01mnumpy\u001b[39;00m \u001b[38;5;28;01mas\u001b[39;00m \u001b[38;5;21;01mnp\u001b[39;00m\n\u001b[0;32m----> 3\u001b[0m \u001b[38;5;28;01mimport\u001b[39;00m \u001b[38;5;21;01mseaborn\u001b[39;00m \u001b[38;5;28;01mas\u001b[39;00m \u001b[38;5;21;01msns\u001b[39;00m\n\u001b[1;32m      4\u001b[0m \u001b[38;5;28;01mimport\u001b[39;00m \u001b[38;5;21;01mmatplotlib\u001b[39;00m\u001b[38;5;21;01m.\u001b[39;00m\u001b[38;5;21;01mpyplot\u001b[39;00m \u001b[38;5;28;01mas\u001b[39;00m \u001b[38;5;21;01mplt\u001b[39;00m\n\u001b[1;32m      5\u001b[0m \u001b[38;5;28;01mfrom\u001b[39;00m \u001b[38;5;21;01msklearn\u001b[39;00m\u001b[38;5;21;01m.\u001b[39;00m\u001b[38;5;21;01mdatasets\u001b[39;00m \u001b[38;5;28;01mimport\u001b[39;00m load_boston\n",
      "\u001b[0;31mModuleNotFoundError\u001b[0m: No module named 'seaborn'"
     ]
    }
   ],
   "source": [
    "import pandas as pd\n",
    "import numpy as np\n",
    "import seaborn as sns\n",
    "import matplotlib.pyplot as plt\n",
    "from sklearn.datasets import load_boston\n",
    "\n",
    "# Load the Boston house price dataset\n",
    "boston = load_boston()\n",
    "df = pd.DataFrame(boston.data, columns=boston.feature_names)\n",
    "df['PRICE'] = boston.target\n",
    "\n",
    "# Distinguish column types\n",
    "numeric_cols = df.select_dtypes(include=[np.number]).columns.tolist()\n",
    "categorical_cols = df.select_dtypes(exclude=[np.number]).columns.tolist()\n",
    "\n",
    "# Summary statistics for numeric columns\n",
    "numeric_summary = df[numeric_cols].describe()\n",
    "\n",
    "# Correlation matrix\n",
    "correlation_matrix = df.corr()\n",
    "\n",
    "# Visualizations\n",
    "plt.figure(figsize=(12, 8))\n",
    "sns.heatmap(correlation_matrix, annot=True, cmap='coolwarm')\n",
    "plt.title('Correlation Matrix')\n",
    "plt.show()\n",
    "\n",
    "# Pairplot for selected features\n",
    "selected_features = ['RM', 'LSTAT', 'PTRATIO', 'PRICE']\n",
    "sns.pairplot(df[selected_features])\n",
    "plt.show()\n",
    "\n",
    "# Distribution of the target variable\n",
    "plt.figure(figsize=(8, 6))\n",
    "sns.histplot(df['PRICE'], kde=True)\n",
    "plt.title('Distribution of House Prices')\n",
    "plt.xlabel('Price')\n",
    "plt.ylabel('Frequency')\n",
    "plt.show()\n",
    "\n",
    "# Boxplot for numeric features\n",
    "plt.figure(figsize=(15, 10))\n",
    "df[numeric_cols].boxplot()\n",
    "plt.xticks(rotation=90)\n",
    "plt.title('Boxplot for Numeric Features')\n",
    "plt.show()\n",
    "\n",
    "# Output the summary statistics and correlation matrix\n",
    "numeric_summary, correlation_matrix\n"
   ]
  },
  {
   "cell_type": "code",
   "execution_count": 2,
   "id": "48e765a6",
   "metadata": {
    "execution": {
     "iopub.execute_input": "2024-08-29T13:41:44.311646Z",
     "iopub.status.busy": "2024-08-29T13:41:44.311308Z",
     "iopub.status.idle": "2024-08-29T13:41:44.333282Z",
     "shell.execute_reply": "2024-08-29T13:41:44.332760Z"
    }
   },
   "outputs": [
    {
     "ename": "ModuleNotFoundError",
     "evalue": "No module named 'matplotlib'",
     "output_type": "error",
     "traceback": [
      "\u001b[0;31m---------------------------------------------------------------------------\u001b[0m",
      "\u001b[0;31mModuleNotFoundError\u001b[0m                       Traceback (most recent call last)",
      "Cell \u001b[0;32mIn[2], line 3\u001b[0m\n\u001b[1;32m      1\u001b[0m \u001b[38;5;28;01mimport\u001b[39;00m \u001b[38;5;21;01mpandas\u001b[39;00m \u001b[38;5;28;01mas\u001b[39;00m \u001b[38;5;21;01mpd\u001b[39;00m\n\u001b[1;32m      2\u001b[0m \u001b[38;5;28;01mimport\u001b[39;00m \u001b[38;5;21;01mnumpy\u001b[39;00m \u001b[38;5;28;01mas\u001b[39;00m \u001b[38;5;21;01mnp\u001b[39;00m\n\u001b[0;32m----> 3\u001b[0m \u001b[38;5;28;01mimport\u001b[39;00m \u001b[38;5;21;01mmatplotlib\u001b[39;00m\u001b[38;5;21;01m.\u001b[39;00m\u001b[38;5;21;01mpyplot\u001b[39;00m \u001b[38;5;28;01mas\u001b[39;00m \u001b[38;5;21;01mplt\u001b[39;00m\n\u001b[1;32m      4\u001b[0m \u001b[38;5;28;01mfrom\u001b[39;00m \u001b[38;5;21;01msklearn\u001b[39;00m\u001b[38;5;21;01m.\u001b[39;00m\u001b[38;5;21;01mdatasets\u001b[39;00m \u001b[38;5;28;01mimport\u001b[39;00m fetch_openml\n\u001b[1;32m      6\u001b[0m \u001b[38;5;66;03m# Load the Boston house price dataset\u001b[39;00m\n",
      "\u001b[0;31mModuleNotFoundError\u001b[0m: No module named 'matplotlib'"
     ]
    }
   ],
   "source": [
    "import pandas as pd\n",
    "import numpy as np\n",
    "import matplotlib.pyplot as plt\n",
    "from sklearn.datasets import fetch_openml\n",
    "\n",
    "# Load the Boston house price dataset\n",
    "boston = fetch_openml(name='boston', version=1, as_frame=True)\n",
    "df = boston.frame\n",
    "\n",
    "# Distinguish column types\n",
    "numeric_cols = df.select_dtypes(include=[np.number]).columns.tolist()\n",
    "categorical_cols = df.select_dtypes(exclude=[np.number]).columns.tolist()\n",
    "\n",
    "# Summary statistics for numeric columns\n",
    "numeric_summary = df[numeric_cols].describe()\n",
    "\n",
    "# Correlation matrix\n",
    "correlation_matrix = df.corr()\n",
    "\n",
    "# Visualizations\n",
    "plt.figure(figsize=(12, 8))\n",
    "plt.matshow(correlation_matrix, fignum=1)\n",
    "plt.xticks(range(len(correlation_matrix.columns)), correlation_matrix.columns, rotation=90)\n",
    "plt.yticks(range(len(correlation_matrix.columns)), correlation_matrix.columns)\n",
    "plt.colorbar()\n",
    "plt.title('Correlation Matrix', pad=20)\n",
    "plt.show()\n",
    "\n",
    "# Pairplot for selected features\n",
    "selected_features = ['RM', 'LSTAT', 'PTRATIO', 'MEDV']\n",
    "pd.plotting.scatter_matrix(df[selected_features], figsize=(12, 12))\n",
    "plt.show()\n",
    "\n",
    "# Distribution of the target variable\n",
    "plt.figure(figsize=(8, 6))\n",
    "df['MEDV'].hist(bins=30, edgecolor='black')\n",
    "plt.title('Distribution of House Prices')\n",
    "plt.xlabel('Price')\n",
    "plt.ylabel('Frequency')\n",
    "plt.show()\n",
    "\n",
    "# Boxplot for numeric features\n",
    "plt.figure(figsize=(15, 10))\n",
    "df[numeric_cols].boxplot()\n",
    "plt.xticks(rotation=90)\n",
    "plt.title('Boxplot for Numeric Features')\n",
    "plt.show()\n",
    "\n",
    "# Output the summary statistics and correlation matrix\n",
    "numeric_summary, correlation_matrix"
   ]
  },
  {
   "cell_type": "code",
   "execution_count": 3,
   "id": "daf38678",
   "metadata": {
    "execution": {
     "iopub.execute_input": "2024-08-29T13:41:58.958154Z",
     "iopub.status.busy": "2024-08-29T13:41:58.957883Z",
     "iopub.status.idle": "2024-08-29T13:42:10.981281Z",
     "shell.execute_reply": "2024-08-29T13:42:10.980872Z"
    }
   },
   "outputs": [
    {
     "name": "stdout",
     "output_type": "stream",
     "text": [
      "Seaborn is not available. Some visualizations will be skipped.\n",
      "Matplotlib is not available. Some visualizations will be skipped.\n"
     ]
    },
    {
     "name": "stderr",
     "output_type": "stream",
     "text": [
      "/Users/tuozhou/opt/anaconda3/envs/chatpilot/lib/python3.10/site-packages/sklearn/datasets/_openml.py:1022: FutureWarning: The default value of `parser` will change from `'liac-arff'` to `'auto'` in 1.4. You can set `parser='auto'` to silence this warning. Therefore, an `ImportError` will be raised from 1.4 if the dataset is dense and pandas is not installed. Note that the pandas parser may return different data types. See the Notes Section in fetch_openml's API doc for details.\n",
      "  warn(\n"
     ]
    },
    {
     "data": {
      "text/plain": [
       "(             CRIM          ZN       INDUS         NOX          RM         AGE  \\\n",
       " count  506.000000  506.000000  506.000000  506.000000  506.000000  506.000000   \n",
       " mean     3.613524   11.363636   11.136779    0.554695    6.284634   68.574901   \n",
       " std      8.601545   23.322453    6.860353    0.115878    0.702617   28.148861   \n",
       " min      0.006320    0.000000    0.460000    0.385000    3.561000    2.900000   \n",
       " 25%      0.082045    0.000000    5.190000    0.449000    5.885500   45.025000   \n",
       " 50%      0.256510    0.000000    9.690000    0.538000    6.208500   77.500000   \n",
       " 75%      3.677083   12.500000   18.100000    0.624000    6.623500   94.075000   \n",
       " max     88.976200  100.000000   27.740000    0.871000    8.780000  100.000000   \n",
       " \n",
       "               DIS         TAX     PTRATIO           B       LSTAT        MEDV  \n",
       " count  506.000000  506.000000  506.000000  506.000000  506.000000  506.000000  \n",
       " mean     3.795043  408.237154   18.455534  356.674032   12.653063   22.532806  \n",
       " std      2.105710  168.537116    2.164946   91.294864    7.141062    9.197104  \n",
       " min      1.129600  187.000000   12.600000    0.320000    1.730000    5.000000  \n",
       " 25%      2.100175  279.000000   17.400000  375.377500    6.950000   17.025000  \n",
       " 50%      3.207450  330.000000   19.050000  391.440000   11.360000   21.200000  \n",
       " 75%      5.188425  666.000000   20.200000  396.225000   16.955000   25.000000  \n",
       " max     12.126500  711.000000   22.000000  396.900000   37.970000   50.000000  ,\n",
       "              CRIM        ZN     INDUS      CHAS       NOX        RM       AGE  \\\n",
       " CRIM     1.000000 -0.200469  0.406583 -0.055892  0.420972 -0.219247  0.352734   \n",
       " ZN      -0.200469  1.000000 -0.533828 -0.042697 -0.516604  0.311991 -0.569537   \n",
       " INDUS    0.406583 -0.533828  1.000000  0.062938  0.763651 -0.391676  0.644779   \n",
       " CHAS    -0.055892 -0.042697  0.062938  1.000000  0.091203  0.091251  0.086518   \n",
       " NOX      0.420972 -0.516604  0.763651  0.091203  1.000000 -0.302188  0.731470   \n",
       " RM      -0.219247  0.311991 -0.391676  0.091251 -0.302188  1.000000 -0.240265   \n",
       " AGE      0.352734 -0.569537  0.644779  0.086518  0.731470 -0.240265  1.000000   \n",
       " DIS     -0.379670  0.664408 -0.708027 -0.099176 -0.769230  0.205246 -0.747881   \n",
       " RAD      0.625505 -0.311948  0.595129 -0.007368  0.611441 -0.209847  0.456022   \n",
       " TAX      0.582764 -0.314563  0.720760 -0.035587  0.668023 -0.292048  0.506456   \n",
       " PTRATIO  0.289946 -0.391679  0.383248 -0.121515  0.188933 -0.355501  0.261515   \n",
       " B       -0.385064  0.175520 -0.356977  0.048788 -0.380051  0.128069 -0.273534   \n",
       " LSTAT    0.455621 -0.412995  0.603800 -0.053929  0.590879 -0.613808  0.602339   \n",
       " MEDV    -0.388305  0.360445 -0.483725  0.175260 -0.427321  0.695360 -0.376955   \n",
       " \n",
       "               DIS       RAD       TAX   PTRATIO         B     LSTAT      MEDV  \n",
       " CRIM    -0.379670  0.625505  0.582764  0.289946 -0.385064  0.455621 -0.388305  \n",
       " ZN       0.664408 -0.311948 -0.314563 -0.391679  0.175520 -0.412995  0.360445  \n",
       " INDUS   -0.708027  0.595129  0.720760  0.383248 -0.356977  0.603800 -0.483725  \n",
       " CHAS    -0.099176 -0.007368 -0.035587 -0.121515  0.048788 -0.053929  0.175260  \n",
       " NOX     -0.769230  0.611441  0.668023  0.188933 -0.380051  0.590879 -0.427321  \n",
       " RM       0.205246 -0.209847 -0.292048 -0.355501  0.128069 -0.613808  0.695360  \n",
       " AGE     -0.747881  0.456022  0.506456  0.261515 -0.273534  0.602339 -0.376955  \n",
       " DIS      1.000000 -0.494588 -0.534432 -0.232471  0.291512 -0.496996  0.249929  \n",
       " RAD     -0.494588  1.000000  0.910228  0.464741 -0.444413  0.488676 -0.381626  \n",
       " TAX     -0.534432  0.910228  1.000000  0.460853 -0.441808  0.543993 -0.468536  \n",
       " PTRATIO -0.232471  0.464741  0.460853  1.000000 -0.177383  0.374044 -0.507787  \n",
       " B        0.291512 -0.444413 -0.441808 -0.177383  1.000000 -0.366087  0.333461  \n",
       " LSTAT   -0.496996  0.488676  0.543993  0.374044 -0.366087  1.000000 -0.737663  \n",
       " MEDV     0.249929 -0.381626 -0.468536 -0.507787  0.333461 -0.737663  1.000000  )"
      ]
     },
     "execution_count": 3,
     "metadata": {},
     "output_type": "execute_result"
    }
   ],
   "source": [
    "import pandas as pd\n",
    "import numpy as np\n",
    "\n",
    "try:\n",
    "    import seaborn as sns\n",
    "    import matplotlib.pyplot as plt\n",
    "    seaborn_available = True\n",
    "except ImportError:\n",
    "    seaborn_available = False\n",
    "    print('Seaborn is not available. Some visualizations will be skipped.')\n",
    "\n",
    "try:\n",
    "    import matplotlib.pyplot as plt\n",
    "    matplotlib_available = True\n",
    "except ImportError:\n",
    "    matplotlib_available = False\n",
    "    print('Matplotlib is not available. Some visualizations will be skipped.')\n",
    "\n",
    "from sklearn.datasets import fetch_openml\n",
    "\n",
    "# Load the Boston house price dataset\n",
    "boston = fetch_openml(name='boston', version=1, as_frame=True)\n",
    "df = boston.frame\n",
    "\n",
    "# Distinguish column types\n",
    "numeric_cols = df.select_dtypes(include=[np.number]).columns.tolist()\n",
    "categorical_cols = df.select_dtypes(exclude=[np.number]).columns.tolist()\n",
    "\n",
    "# Summary statistics for numeric columns\n",
    "numeric_summary = df[numeric_cols].describe()\n",
    "\n",
    "# Correlation matrix\n",
    "correlation_matrix = df.corr()\n",
    "\n",
    "# Visualizations\n",
    "if matplotlib_available:\n",
    "    plt.figure(figsize=(12, 8))\n",
    "    if seaborn_available:\n",
    "        sns.heatmap(correlation_matrix, annot=True, cmap='coolwarm')\n",
    "    else:\n",
    "        plt.matshow(correlation_matrix, fignum=1)\n",
    "        plt.xticks(range(len(correlation_matrix.columns)), correlation_matrix.columns, rotation=90)\n",
    "        plt.yticks(range(len(correlation_matrix.columns)), correlation_matrix.columns)\n",
    "        plt.colorbar()\n",
    "    plt.title('Correlation Matrix')\n",
    "    plt.show()\n",
    "\n",
    "    # Pairplot for selected features\n",
    "    selected_features = ['RM', 'LSTAT', 'PTRATIO', 'MEDV']\n",
    "    if seaborn_available:\n",
    "        sns.pairplot(df[selected_features])\n",
    "    else:\n",
    "        pd.plotting.scatter_matrix(df[selected_features], figsize=(12, 12))\n",
    "    plt.show()\n",
    "\n",
    "    # Distribution of the target variable\n",
    "    plt.figure(figsize=(8, 6))\n",
    "    if seaborn_available:\n",
    "        sns.histplot(df['MEDV'], kde=True)\n",
    "    else:\n",
    "        df['MEDV'].hist(bins=30, edgecolor='black')\n",
    "    plt.title('Distribution of House Prices')\n",
    "    plt.xlabel('Price')\n",
    "    plt.ylabel('Frequency')\n",
    "    plt.show()\n",
    "\n",
    "    # Boxplot for numeric features\n",
    "    plt.figure(figsize=(15, 10))\n",
    "    df[numeric_cols].boxplot()\n",
    "    plt.xticks(rotation=90)\n",
    "    plt.title('Boxplot for Numeric Features')\n",
    "    plt.show()\n",
    "\n",
    "# Output the summary statistics and correlation matrix\n",
    "numeric_summary, correlation_matrix"
   ]
  },
  {
   "cell_type": "code",
   "execution_count": 4,
   "id": "9e553425",
   "metadata": {
    "execution": {
     "iopub.execute_input": "2024-08-29T13:42:19.109395Z",
     "iopub.status.busy": "2024-08-29T13:42:19.108786Z",
     "iopub.status.idle": "2024-08-29T13:42:24.964367Z",
     "shell.execute_reply": "2024-08-29T13:42:24.963918Z"
    }
   },
   "outputs": [
    {
     "name": "stderr",
     "output_type": "stream",
     "text": [
      "2024-08-29 21:42:23.646 | INFO     | metagpt.const:get_metagpt_package_root:21 - Package root set to /Users/tuozhou/Desktop/RA/SZRI/ChatPilot\n"
     ]
    },
    {
     "name": "stdout",
     "output_type": "stream",
     "text": [
      "column_info\n",
      "{'Category': [], 'Numeric': ['CRIM', 'ZN', 'INDUS', 'NOX', 'RM', 'AGE', 'DIS', 'TAX', 'PTRATIO', 'B', 'LSTAT', 'MEDV'], 'Datetime': [], 'Others': ['CHAS', 'RAD']}\n"
     ]
    }
   ],
   "source": [
    "from metagpt.tools.libs.data_preprocess import get_column_info\n",
    "\n",
    "column_info = get_column_info(df)\n",
    "print(\"column_info\")\n",
    "print(column_info)\n"
   ]
  },
  {
   "cell_type": "code",
   "execution_count": 5,
   "id": "2cda56f1",
   "metadata": {
    "execution": {
     "iopub.execute_input": "2024-08-29T13:42:34.330271Z",
     "iopub.status.busy": "2024-08-29T13:42:34.328831Z",
     "iopub.status.idle": "2024-08-29T13:42:34.358963Z",
     "shell.execute_reply": "2024-08-29T13:42:34.358573Z"
    }
   },
   "outputs": [
    {
     "data": {
      "text/html": [
       "<div>\n",
       "<style scoped>\n",
       "    .dataframe tbody tr th:only-of-type {\n",
       "        vertical-align: middle;\n",
       "    }\n",
       "\n",
       "    .dataframe tbody tr th {\n",
       "        vertical-align: top;\n",
       "    }\n",
       "\n",
       "    .dataframe thead th {\n",
       "        text-align: right;\n",
       "    }\n",
       "</style>\n",
       "<table border=\"1\" class=\"dataframe\">\n",
       "  <thead>\n",
       "    <tr style=\"text-align: right;\">\n",
       "      <th></th>\n",
       "      <th>CRIM</th>\n",
       "      <th>ZN</th>\n",
       "      <th>INDUS</th>\n",
       "      <th>CHAS</th>\n",
       "      <th>NOX</th>\n",
       "      <th>RM</th>\n",
       "      <th>AGE</th>\n",
       "      <th>DIS</th>\n",
       "      <th>RAD</th>\n",
       "      <th>TAX</th>\n",
       "      <th>PTRATIO</th>\n",
       "      <th>B</th>\n",
       "      <th>LSTAT</th>\n",
       "      <th>MEDV</th>\n",
       "    </tr>\n",
       "  </thead>\n",
       "  <tbody>\n",
       "    <tr>\n",
       "      <th>0</th>\n",
       "      <td>-0.419782</td>\n",
       "      <td>0.284830</td>\n",
       "      <td>-1.287909</td>\n",
       "      <td>0</td>\n",
       "      <td>-0.144217</td>\n",
       "      <td>0.413672</td>\n",
       "      <td>-0.120013</td>\n",
       "      <td>0.140214</td>\n",
       "      <td>1</td>\n",
       "      <td>-0.666608</td>\n",
       "      <td>-1.459000</td>\n",
       "      <td>0.441052</td>\n",
       "      <td>-1.075562</td>\n",
       "      <td>24.0</td>\n",
       "    </tr>\n",
       "    <tr>\n",
       "      <th>1</th>\n",
       "      <td>-0.417339</td>\n",
       "      <td>-0.487722</td>\n",
       "      <td>-0.593381</td>\n",
       "      <td>0</td>\n",
       "      <td>-0.740262</td>\n",
       "      <td>0.194274</td>\n",
       "      <td>0.367166</td>\n",
       "      <td>0.557160</td>\n",
       "      <td>2</td>\n",
       "      <td>-0.987329</td>\n",
       "      <td>-0.303094</td>\n",
       "      <td>0.441052</td>\n",
       "      <td>-0.492439</td>\n",
       "      <td>21.6</td>\n",
       "    </tr>\n",
       "    <tr>\n",
       "      <th>2</th>\n",
       "      <td>-0.417342</td>\n",
       "      <td>-0.487722</td>\n",
       "      <td>-0.593381</td>\n",
       "      <td>0</td>\n",
       "      <td>-0.740262</td>\n",
       "      <td>1.282714</td>\n",
       "      <td>-0.265812</td>\n",
       "      <td>0.557160</td>\n",
       "      <td>2</td>\n",
       "      <td>-0.987329</td>\n",
       "      <td>-0.303094</td>\n",
       "      <td>0.396427</td>\n",
       "      <td>-1.208727</td>\n",
       "      <td>34.7</td>\n",
       "    </tr>\n",
       "    <tr>\n",
       "      <th>3</th>\n",
       "      <td>-0.416750</td>\n",
       "      <td>-0.487722</td>\n",
       "      <td>-1.306878</td>\n",
       "      <td>0</td>\n",
       "      <td>-0.835284</td>\n",
       "      <td>1.016303</td>\n",
       "      <td>-0.809889</td>\n",
       "      <td>1.077737</td>\n",
       "      <td>3</td>\n",
       "      <td>-1.106115</td>\n",
       "      <td>0.113032</td>\n",
       "      <td>0.416163</td>\n",
       "      <td>-1.361517</td>\n",
       "      <td>33.4</td>\n",
       "    </tr>\n",
       "    <tr>\n",
       "      <th>4</th>\n",
       "      <td>-0.412482</td>\n",
       "      <td>-0.487722</td>\n",
       "      <td>-1.306878</td>\n",
       "      <td>0</td>\n",
       "      <td>-0.835284</td>\n",
       "      <td>1.228577</td>\n",
       "      <td>-0.511180</td>\n",
       "      <td>1.077737</td>\n",
       "      <td>3</td>\n",
       "      <td>-1.106115</td>\n",
       "      <td>0.113032</td>\n",
       "      <td>0.441052</td>\n",
       "      <td>-1.026501</td>\n",
       "      <td>36.2</td>\n",
       "    </tr>\n",
       "  </tbody>\n",
       "</table>\n",
       "</div>"
      ],
      "text/plain": [
       "       CRIM        ZN     INDUS CHAS       NOX        RM       AGE       DIS  \\\n",
       "0 -0.419782  0.284830 -1.287909    0 -0.144217  0.413672 -0.120013  0.140214   \n",
       "1 -0.417339 -0.487722 -0.593381    0 -0.740262  0.194274  0.367166  0.557160   \n",
       "2 -0.417342 -0.487722 -0.593381    0 -0.740262  1.282714 -0.265812  0.557160   \n",
       "3 -0.416750 -0.487722 -1.306878    0 -0.835284  1.016303 -0.809889  1.077737   \n",
       "4 -0.412482 -0.487722 -1.306878    0 -0.835284  1.228577 -0.511180  1.077737   \n",
       "\n",
       "  RAD       TAX   PTRATIO         B     LSTAT  MEDV  \n",
       "0   1 -0.666608 -1.459000  0.441052 -1.075562  24.0  \n",
       "1   2 -0.987329 -0.303094  0.441052 -0.492439  21.6  \n",
       "2   2 -0.987329 -0.303094  0.396427 -1.208727  34.7  \n",
       "3   3 -1.106115  0.113032  0.416163 -1.361517  33.4  \n",
       "4   3 -1.106115  0.113032  0.441052 -1.026501  36.2  "
      ]
     },
     "execution_count": 5,
     "metadata": {},
     "output_type": "execute_result"
    }
   ],
   "source": [
    "# Import necessary tools\n",
    "from metagpt.tools.libs.data_preprocess import StandardScale\n",
    "from metagpt.tools.libs.feature_engineering import GeneralSelection\n",
    "\n",
    "# Copy the DataFrame before processing\n",
    "df_copy = df.copy()\n",
    "\n",
    "# Initialize the GeneralSelection tool to drop NaN features and features with only one unique value\n",
    "general_selection = GeneralSelection(label_col='MEDV')\n",
    "df_processed = general_selection.fit_transform(df_copy)\n",
    "\n",
    "# Initialize the StandardScale tool to standardize numeric features\n",
    "numeric_features = ['CRIM', 'ZN', 'INDUS', 'NOX', 'RM', 'AGE', 'DIS', 'TAX', 'PTRATIO', 'B', 'LSTAT']\n",
    "standard_scaler = StandardScale(features=numeric_features)\n",
    "df_processed = standard_scaler.fit_transform(df_processed)\n",
    "\n",
    "# Display the processed DataFrame\n",
    "df_processed.head()\n"
   ]
  },
  {
   "cell_type": "code",
   "execution_count": 6,
   "id": "b6752ee6",
   "metadata": {
    "execution": {
     "iopub.execute_input": "2024-08-29T13:42:41.378442Z",
     "iopub.status.busy": "2024-08-29T13:42:41.378007Z",
     "iopub.status.idle": "2024-08-29T13:42:41.383429Z",
     "shell.execute_reply": "2024-08-29T13:42:41.382913Z"
    }
   },
   "outputs": [
    {
     "name": "stdout",
     "output_type": "stream",
     "text": [
      "column_info\n",
      "{'Category': [], 'Numeric': ['CRIM', 'ZN', 'INDUS', 'NOX', 'RM', 'AGE', 'DIS', 'TAX', 'PTRATIO', 'B', 'LSTAT', 'MEDV'], 'Datetime': [], 'Others': ['CHAS', 'RAD']}\n"
     ]
    }
   ],
   "source": [
    "from metagpt.tools.libs.data_preprocess import get_column_info\n",
    "\n",
    "column_info = get_column_info(df_processed)\n",
    "print(\"column_info\")\n",
    "print(column_info)\n"
   ]
  },
  {
   "cell_type": "code",
   "execution_count": 7,
   "id": "b11546bb",
   "metadata": {
    "execution": {
     "iopub.execute_input": "2024-08-29T13:42:48.333309Z",
     "iopub.status.busy": "2024-08-29T13:42:48.332977Z",
     "iopub.status.idle": "2024-08-29T13:42:49.299930Z",
     "shell.execute_reply": "2024-08-29T13:42:49.299375Z"
    }
   },
   "outputs": [
    {
     "ename": "TypeError",
     "evalue": "can't multiply sequence by non-int of type 'float'",
     "output_type": "error",
     "traceback": [
      "\u001b[0;31m---------------------------------------------------------------------------\u001b[0m",
      "\u001b[0;31mTypeError\u001b[0m                                 Traceback (most recent call last)",
      "Cell \u001b[0;32mIn[7], line 15\u001b[0m\n\u001b[1;32m     12\u001b[0m model\u001b[38;5;241m.\u001b[39mfit(X_train, y_train)\n\u001b[1;32m     14\u001b[0m \u001b[38;5;66;03m# Make predictions\u001b[39;00m\n\u001b[0;32m---> 15\u001b[0m y_pred_train \u001b[38;5;241m=\u001b[39m \u001b[43mmodel\u001b[49m\u001b[38;5;241;43m.\u001b[39;49m\u001b[43mpredict\u001b[49m\u001b[43m(\u001b[49m\u001b[43mX_train\u001b[49m\u001b[43m)\u001b[49m\n\u001b[1;32m     16\u001b[0m y_pred_test \u001b[38;5;241m=\u001b[39m model\u001b[38;5;241m.\u001b[39mpredict(X_test)\n\u001b[1;32m     18\u001b[0m \u001b[38;5;66;03m# Evaluate the model\u001b[39;00m\n",
      "File \u001b[0;32m~/opt/anaconda3/envs/chatpilot/lib/python3.10/site-packages/sklearn/linear_model/_base.py:386\u001b[0m, in \u001b[0;36mLinearModel.predict\u001b[0;34m(self, X)\u001b[0m\n\u001b[1;32m    372\u001b[0m \u001b[38;5;28;01mdef\u001b[39;00m \u001b[38;5;21mpredict\u001b[39m(\u001b[38;5;28mself\u001b[39m, X):\n\u001b[1;32m    373\u001b[0m \u001b[38;5;250m    \u001b[39m\u001b[38;5;124;03m\"\"\"\u001b[39;00m\n\u001b[1;32m    374\u001b[0m \u001b[38;5;124;03m    Predict using the linear model.\u001b[39;00m\n\u001b[1;32m    375\u001b[0m \n\u001b[0;32m   (...)\u001b[0m\n\u001b[1;32m    384\u001b[0m \u001b[38;5;124;03m        Returns predicted values.\u001b[39;00m\n\u001b[1;32m    385\u001b[0m \u001b[38;5;124;03m    \"\"\"\u001b[39;00m\n\u001b[0;32m--> 386\u001b[0m     \u001b[38;5;28;01mreturn\u001b[39;00m \u001b[38;5;28;43mself\u001b[39;49m\u001b[38;5;241;43m.\u001b[39;49m\u001b[43m_decision_function\u001b[49m\u001b[43m(\u001b[49m\u001b[43mX\u001b[49m\u001b[43m)\u001b[49m\n",
      "File \u001b[0;32m~/opt/anaconda3/envs/chatpilot/lib/python3.10/site-packages/sklearn/linear_model/_base.py:370\u001b[0m, in \u001b[0;36mLinearModel._decision_function\u001b[0;34m(self, X)\u001b[0m\n\u001b[1;32m    367\u001b[0m check_is_fitted(\u001b[38;5;28mself\u001b[39m)\n\u001b[1;32m    369\u001b[0m X \u001b[38;5;241m=\u001b[39m \u001b[38;5;28mself\u001b[39m\u001b[38;5;241m.\u001b[39m_validate_data(X, accept_sparse\u001b[38;5;241m=\u001b[39m[\u001b[38;5;124m\"\u001b[39m\u001b[38;5;124mcsr\u001b[39m\u001b[38;5;124m\"\u001b[39m, \u001b[38;5;124m\"\u001b[39m\u001b[38;5;124mcsc\u001b[39m\u001b[38;5;124m\"\u001b[39m, \u001b[38;5;124m\"\u001b[39m\u001b[38;5;124mcoo\u001b[39m\u001b[38;5;124m\"\u001b[39m], reset\u001b[38;5;241m=\u001b[39m\u001b[38;5;28;01mFalse\u001b[39;00m)\n\u001b[0;32m--> 370\u001b[0m \u001b[38;5;28;01mreturn\u001b[39;00m \u001b[43msafe_sparse_dot\u001b[49m\u001b[43m(\u001b[49m\u001b[43mX\u001b[49m\u001b[43m,\u001b[49m\u001b[43m \u001b[49m\u001b[38;5;28;43mself\u001b[39;49m\u001b[38;5;241;43m.\u001b[39;49m\u001b[43mcoef_\u001b[49m\u001b[38;5;241;43m.\u001b[39;49m\u001b[43mT\u001b[49m\u001b[43m,\u001b[49m\u001b[43m \u001b[49m\u001b[43mdense_output\u001b[49m\u001b[38;5;241;43m=\u001b[39;49m\u001b[38;5;28;43;01mTrue\u001b[39;49;00m\u001b[43m)\u001b[49m \u001b[38;5;241m+\u001b[39m \u001b[38;5;28mself\u001b[39m\u001b[38;5;241m.\u001b[39mintercept_\n",
      "File \u001b[0;32m~/opt/anaconda3/envs/chatpilot/lib/python3.10/site-packages/sklearn/utils/extmath.py:192\u001b[0m, in \u001b[0;36msafe_sparse_dot\u001b[0;34m(a, b, dense_output)\u001b[0m\n\u001b[1;32m    190\u001b[0m         ret \u001b[38;5;241m=\u001b[39m np\u001b[38;5;241m.\u001b[39mdot(a, b)\n\u001b[1;32m    191\u001b[0m \u001b[38;5;28;01melse\u001b[39;00m:\n\u001b[0;32m--> 192\u001b[0m     ret \u001b[38;5;241m=\u001b[39m \u001b[43ma\u001b[49m\u001b[43m \u001b[49m\u001b[38;5;241;43m@\u001b[39;49m\u001b[43m \u001b[49m\u001b[43mb\u001b[49m\n\u001b[1;32m    194\u001b[0m \u001b[38;5;28;01mif\u001b[39;00m (\n\u001b[1;32m    195\u001b[0m     sparse\u001b[38;5;241m.\u001b[39missparse(a)\n\u001b[1;32m    196\u001b[0m     \u001b[38;5;129;01mand\u001b[39;00m sparse\u001b[38;5;241m.\u001b[39missparse(b)\n\u001b[1;32m    197\u001b[0m     \u001b[38;5;129;01mand\u001b[39;00m dense_output\n\u001b[1;32m    198\u001b[0m     \u001b[38;5;129;01mand\u001b[39;00m \u001b[38;5;28mhasattr\u001b[39m(ret, \u001b[38;5;124m\"\u001b[39m\u001b[38;5;124mtoarray\u001b[39m\u001b[38;5;124m\"\u001b[39m)\n\u001b[1;32m    199\u001b[0m ):\n\u001b[1;32m    200\u001b[0m     \u001b[38;5;28;01mreturn\u001b[39;00m ret\u001b[38;5;241m.\u001b[39mtoarray()\n",
      "\u001b[0;31mTypeError\u001b[0m: can't multiply sequence by non-int of type 'float'"
     ]
    }
   ],
   "source": [
    "from sklearn.model_selection import train_test_split\n",
    "from sklearn.linear_model import LinearRegression\n",
    "from sklearn.metrics import mean_squared_error, r2_score\n",
    "\n",
    "# Split the data into training and testing sets\n",
    "X = df_processed.drop(columns=['MEDV'])\n",
    "y = df_processed['MEDV']\n",
    "X_train, X_test, y_train, y_test = train_test_split(X, y, test_size=0.2, random_state=42)\n",
    "\n",
    "# Train a linear regression model\n",
    "model = LinearRegression()\n",
    "model.fit(X_train, y_train)\n",
    "\n",
    "# Make predictions\n",
    "y_pred_train = model.predict(X_train)\n",
    "y_pred_test = model.predict(X_test)\n",
    "\n",
    "# Evaluate the model\n",
    "train_mse = mean_squared_error(y_train, y_pred_train)\n",
    "test_mse = mean_squared_error(y_test, y_pred_test)\n",
    "train_r2 = r2_score(y_train, y_pred_train)\n",
    "test_r2 = r2_score(y_test, y_pred_test)\n",
    "\n",
    "print(f\"Training MSE: {train_mse}\")\n",
    "print(f\"Testing MSE: {test_mse}\")\n",
    "print(f\"Training R2: {train_r2}\")\n",
    "print(f\"Testing R2: {test_r2}\")\n"
   ]
  },
  {
   "cell_type": "code",
   "execution_count": 8,
   "id": "7254373b",
   "metadata": {
    "execution": {
     "iopub.execute_input": "2024-08-29T13:42:59.991828Z",
     "iopub.status.busy": "2024-08-29T13:42:59.991586Z",
     "iopub.status.idle": "2024-08-29T13:43:00.009291Z",
     "shell.execute_reply": "2024-08-29T13:43:00.008760Z"
    }
   },
   "outputs": [
    {
     "name": "stdout",
     "output_type": "stream",
     "text": [
      "Training MSE: 20.604025365288944\n",
      "Testing MSE: 24.818442738481195\n",
      "Training R2: 0.7628270050876917\n",
      "Testing R2: 0.6615687658684825\n"
     ]
    },
    {
     "name": "stderr",
     "output_type": "stream",
     "text": [
      "/Users/tuozhou/opt/anaconda3/envs/chatpilot/lib/python3.10/site-packages/sklearn/preprocessing/_encoders.py:975: FutureWarning: `sparse` was renamed to `sparse_output` in version 1.2 and will be removed in 1.4. `sparse_output` is ignored unless you leave `sparse` to its default value.\n",
      "  warnings.warn(\n"
     ]
    }
   ],
   "source": [
    "from sklearn.model_selection import train_test_split\n",
    "from sklearn.linear_model import LinearRegression\n",
    "from sklearn.metrics import mean_squared_error, r2_score\n",
    "from sklearn.preprocessing import OneHotEncoder\n",
    "\n",
    "# One-hot encode categorical features\n",
    "categorical_cols = ['CHAS', 'RAD']\n",
    "encoder = OneHotEncoder(drop='first', sparse=False)\n",
    "encoded_features = encoder.fit_transform(df_processed[categorical_cols])\n",
    "encoded_df = pd.DataFrame(encoded_features, columns=encoder.get_feature_names_out(categorical_cols))\n",
    "\n",
    "# Drop original categorical columns and concatenate encoded features\n",
    "df_processed = df_processed.drop(columns=categorical_cols)\n",
    "df_processed = pd.concat([df_processed, encoded_df], axis=1)\n",
    "\n",
    "# Split the data into training and testing sets\n",
    "X = df_processed.drop(columns=['MEDV'])\n",
    "y = df_processed['MEDV']\n",
    "X_train, X_test, y_train, y_test = train_test_split(X, y, test_size=0.2, random_state=42)\n",
    "\n",
    "# Train a linear regression model\n",
    "model = LinearRegression()\n",
    "model.fit(X_train, y_train)\n",
    "\n",
    "# Make predictions\n",
    "y_pred_train = model.predict(X_train)\n",
    "y_pred_test = model.predict(X_test)\n",
    "\n",
    "# Evaluate the model\n",
    "train_mse = mean_squared_error(y_train, y_pred_train)\n",
    "test_mse = mean_squared_error(y_test, y_pred_test)\n",
    "train_r2 = r2_score(y_train, y_pred_train)\n",
    "test_r2 = r2_score(y_test, y_pred_test)\n",
    "\n",
    "print(f\"Training MSE: {train_mse}\")\n",
    "print(f\"Testing MSE: {test_mse}\")\n",
    "print(f\"Training R2: {train_r2}\")\n",
    "print(f\"Testing R2: {test_r2}\")"
   ]
  },
  {
   "cell_type": "code",
   "execution_count": 9,
   "id": "629416f0",
   "metadata": {
    "execution": {
     "iopub.execute_input": "2024-08-29T13:43:26.472416Z",
     "iopub.status.busy": "2024-08-29T13:43:26.471336Z",
     "iopub.status.idle": "2024-08-29T13:43:26.496060Z",
     "shell.execute_reply": "2024-08-29T13:43:26.495495Z"
    }
   },
   "outputs": [
    {
     "data": {
      "text/plain": [
       "{'Training MSE': 20.604025365288944,\n",
       " 'Testing MSE': 24.818442738481195,\n",
       " 'Training R2': 0.7628270050876917,\n",
       " 'Testing R2': 0.6615687658684825}"
      ]
     },
     "execution_count": 9,
     "metadata": {},
     "output_type": "execute_result"
    }
   ],
   "source": [
    "# Evaluate the trained linear regression model\n",
    "\n",
    "# Plotting the residuals to check for patterns\n",
    "if matplotlib_available:\n",
    "    residuals = y_test - y_pred_test\n",
    "    plt.figure(figsize=(8, 6))\n",
    "    plt.scatter(y_pred_test, residuals)\n",
    "    plt.axhline(y=0, color='r', linestyle='-')\n",
    "    plt.xlabel('Predicted Values')\n",
    "    plt.ylabel('Residuals')\n",
    "    plt.title('Residuals vs Predicted Values')\n",
    "    plt.show()\n",
    "\n",
    "    # Plotting histogram of residuals\n",
    "    plt.figure(figsize=(8, 6))\n",
    "    if seaborn_available:\n",
    "        sns.histplot(residuals, kde=True)\n",
    "    else:\n",
    "        plt.hist(residuals, bins=30, edgecolor='black')\n",
    "    plt.title('Distribution of Residuals')\n",
    "    plt.xlabel('Residuals')\n",
    "    plt.ylabel('Frequency')\n",
    "    plt.show()\n",
    "\n",
    "# Evaluate the performance on the test set\n",
    "evaluation_summary = {\n",
    "    \"Training MSE\": train_mse,\n",
    "    \"Testing MSE\": test_mse,\n",
    "    \"Training R2\": train_r2,\n",
    "    \"Testing R2\": test_r2\n",
    "}\n",
    "evaluation_summary\n"
   ]
  }
 ],
 "metadata": {},
 "nbformat": 4,
 "nbformat_minor": 5
}
