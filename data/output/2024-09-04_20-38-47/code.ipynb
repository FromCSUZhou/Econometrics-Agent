{
 "cells": [
  {
   "cell_type": "code",
   "execution_count": 1,
   "id": "0603b0ba",
   "metadata": {
    "execution": {
     "iopub.execute_input": "2024-09-04T12:37:31.817560Z",
     "iopub.status.busy": "2024-09-04T12:37:31.816034Z",
     "iopub.status.idle": "2024-09-04T12:37:33.611891Z",
     "shell.execute_reply": "2024-09-04T12:37:33.611240Z"
    }
   },
   "outputs": [
    {
     "ename": "ImportError",
     "evalue": "\n`load_boston` has been removed from scikit-learn since version 1.2.\n\nThe Boston housing prices dataset has an ethical problem: as\ninvestigated in [1], the authors of this dataset engineered a\nnon-invertible variable \"B\" assuming that racial self-segregation had a\npositive impact on house prices [2]. Furthermore the goal of the\nresearch that led to the creation of this dataset was to study the\nimpact of air quality but it did not give adequate demonstration of the\nvalidity of this assumption.\n\nThe scikit-learn maintainers therefore strongly discourage the use of\nthis dataset unless the purpose of the code is to study and educate\nabout ethical issues in data science and machine learning.\n\nIn this special case, you can fetch the dataset from the original\nsource::\n\n    import pandas as pd\n    import numpy as np\n\n    data_url = \"http://lib.stat.cmu.edu/datasets/boston\"\n    raw_df = pd.read_csv(data_url, sep=\"\\s+\", skiprows=22, header=None)\n    data = np.hstack([raw_df.values[::2, :], raw_df.values[1::2, :2]])\n    target = raw_df.values[1::2, 2]\n\nAlternative datasets include the California housing dataset and the\nAmes housing dataset. You can load the datasets as follows::\n\n    from sklearn.datasets import fetch_california_housing\n    housing = fetch_california_housing()\n\nfor the California housing dataset and::\n\n    from sklearn.datasets import fetch_openml\n    housing = fetch_openml(name=\"house_prices\", as_frame=True)\n\nfor the Ames housing dataset.\n\n[1] M Carlisle.\n\"Racist data destruction?\"\n<https://medium.com/@docintangible/racist-data-destruction-113e3eff54a8>\n\n[2] Harrison Jr, David, and Daniel L. Rubinfeld.\n\"Hedonic housing prices and the demand for clean air.\"\nJournal of environmental economics and management 5.1 (1978): 81-102.\n<https://www.researchgate.net/publication/4974606_Hedonic_housing_prices_and_the_demand_for_clean_air>\n",
     "output_type": "error",
     "traceback": [
      "\u001b[0;31m---------------------------------------------------------------------------\u001b[0m",
      "\u001b[0;31mImportError\u001b[0m                               Traceback (most recent call last)",
      "Cell \u001b[0;32mIn[1], line 8\u001b[0m\n\u001b[1;32m      6\u001b[0m \u001b[38;5;28;01mfrom\u001b[39;00m \u001b[38;5;21;01mpathlib\u001b[39;00m \u001b[38;5;28;01mimport\u001b[39;00m Path\n\u001b[1;32m      7\u001b[0m \u001b[38;5;28;01mimport\u001b[39;00m \u001b[38;5;21;01mtime\u001b[39;00m\n\u001b[0;32m----> 8\u001b[0m \u001b[38;5;28;01mfrom\u001b[39;00m \u001b[38;5;21;01msklearn\u001b[39;00m\u001b[38;5;21;01m.\u001b[39;00m\u001b[38;5;21;01mdatasets\u001b[39;00m \u001b[38;5;28;01mimport\u001b[39;00m load_boston\n\u001b[1;32m     10\u001b[0m \u001b[38;5;66;03m# Load the Boston house price dataset\u001b[39;00m\n\u001b[1;32m     11\u001b[0m boston \u001b[38;5;241m=\u001b[39m load_boston()\n",
      "File \u001b[0;32m~/opt/anaconda3/envs/chatpilot/lib/python3.10/site-packages/sklearn/datasets/__init__.py:157\u001b[0m, in \u001b[0;36m__getattr__\u001b[0;34m(name)\u001b[0m\n\u001b[1;32m    108\u001b[0m \u001b[38;5;28;01mif\u001b[39;00m name \u001b[38;5;241m==\u001b[39m \u001b[38;5;124m\"\u001b[39m\u001b[38;5;124mload_boston\u001b[39m\u001b[38;5;124m\"\u001b[39m:\n\u001b[1;32m    109\u001b[0m     msg \u001b[38;5;241m=\u001b[39m textwrap\u001b[38;5;241m.\u001b[39mdedent(\u001b[38;5;124m\"\"\"\u001b[39m\n\u001b[1;32m    110\u001b[0m \u001b[38;5;124m        `load_boston` has been removed from scikit-learn since version 1.2.\u001b[39m\n\u001b[1;32m    111\u001b[0m \n\u001b[0;32m   (...)\u001b[0m\n\u001b[1;32m    155\u001b[0m \u001b[38;5;124m        <https://www.researchgate.net/publication/4974606_Hedonic_housing_prices_and_the_demand_for_clean_air>\u001b[39m\n\u001b[1;32m    156\u001b[0m \u001b[38;5;124m        \u001b[39m\u001b[38;5;124m\"\"\"\u001b[39m)\n\u001b[0;32m--> 157\u001b[0m     \u001b[38;5;28;01mraise\u001b[39;00m \u001b[38;5;167;01mImportError\u001b[39;00m(msg)\n\u001b[1;32m    158\u001b[0m \u001b[38;5;28;01mtry\u001b[39;00m:\n\u001b[1;32m    159\u001b[0m     \u001b[38;5;28;01mreturn\u001b[39;00m \u001b[38;5;28mglobals\u001b[39m()[name]\n",
      "\u001b[0;31mImportError\u001b[0m: \n`load_boston` has been removed from scikit-learn since version 1.2.\n\nThe Boston housing prices dataset has an ethical problem: as\ninvestigated in [1], the authors of this dataset engineered a\nnon-invertible variable \"B\" assuming that racial self-segregation had a\npositive impact on house prices [2]. Furthermore the goal of the\nresearch that led to the creation of this dataset was to study the\nimpact of air quality but it did not give adequate demonstration of the\nvalidity of this assumption.\n\nThe scikit-learn maintainers therefore strongly discourage the use of\nthis dataset unless the purpose of the code is to study and educate\nabout ethical issues in data science and machine learning.\n\nIn this special case, you can fetch the dataset from the original\nsource::\n\n    import pandas as pd\n    import numpy as np\n\n    data_url = \"http://lib.stat.cmu.edu/datasets/boston\"\n    raw_df = pd.read_csv(data_url, sep=\"\\s+\", skiprows=22, header=None)\n    data = np.hstack([raw_df.values[::2, :], raw_df.values[1::2, :2]])\n    target = raw_df.values[1::2, 2]\n\nAlternative datasets include the California housing dataset and the\nAmes housing dataset. You can load the datasets as follows::\n\n    from sklearn.datasets import fetch_california_housing\n    housing = fetch_california_housing()\n\nfor the California housing dataset and::\n\n    from sklearn.datasets import fetch_openml\n    housing = fetch_openml(name=\"house_prices\", as_frame=True)\n\nfor the Ames housing dataset.\n\n[1] M Carlisle.\n\"Racist data destruction?\"\n<https://medium.com/@docintangible/racist-data-destruction-113e3eff54a8>\n\n[2] Harrison Jr, David, and Daniel L. Rubinfeld.\n\"Hedonic housing prices and the demand for clean air.\"\nJournal of environmental economics and management 5.1 (1978): 81-102.\n<https://www.researchgate.net/publication/4974606_Hedonic_housing_prices_and_the_demand_for_clean_air>\n"
     ]
    }
   ],
   "source": [
    "# Import necessary packages\n",
    "import numpy as np\n",
    "import pandas as pd\n",
    "import seaborn as sns\n",
    "import matplotlib.pyplot as plt\n",
    "from pathlib import Path\n",
    "import time\n",
    "from sklearn.datasets import load_boston\n",
    "\n",
    "# Load the Boston house price dataset\n",
    "boston = load_boston()\n",
    "boston_df = pd.DataFrame(boston.data, columns=boston.feature_names)\n",
    "boston_df['MEDV'] = boston.target\n",
    "\n",
    "# Exploratory Data Analysis\n",
    "# 1. Summary statistics for numerical columns\n",
    "summary_stats = boston_df.describe()\n",
    "print(\"Summary Statistics for Numerical Columns:\")\n",
    "print(summary_stats)\n",
    "\n",
    "# 2. Check for missing values\n",
    "missing_values = boston_df.isnull().sum()\n",
    "print(\"\\nMissing Values in Each Column:\")\n",
    "print(missing_values)\n",
    "\n",
    "# 3. Distinguish column types\n",
    "numerical_columns = boston_df.select_dtypes(include=[np.number]).columns.tolist()\n",
    "categorical_columns = boston_df.select_dtypes(exclude=[np.number]).columns.tolist()\n",
    "print(\"\\nNumerical Columns:\", numerical_columns)\n",
    "print(\"Categorical Columns:\", categorical_columns)\n",
    "\n",
    "# 4. Correlation matrix for numerical columns\n",
    "correlation_matrix = boston_df.corr()\n",
    "\n",
    "# Save correlation matrix heatmap\n",
    "timestamp = int(time.time())\n",
    "save_dir = Path(\"/Users/tuozhou/Desktop/RA/SZRI/ML_Assistant/data/output/image\")\n",
    "save_dir.mkdir(parents=True, exist_ok=True)\n",
    "file_name = f'correlation_matrix_{timestamp}.png'\n",
    "file_path = save_dir / file_name\n",
    "plt.figure(figsize=(12, 8))\n",
    "sns.heatmap(correlation_matrix, annot=True, cmap='coolwarm', fmt='.2f')\n",
    "plt.title('Correlation Matrix')\n",
    "plt.savefig(file_path)\n",
    "plt.clf()\n",
    "print(f'Image saved to: {file_path}')\n"
   ]
  },
  {
   "cell_type": "code",
   "execution_count": 2,
   "id": "0a521b90",
   "metadata": {
    "execution": {
     "iopub.execute_input": "2024-09-04T12:37:42.923594Z",
     "iopub.status.busy": "2024-09-04T12:37:42.923218Z",
     "iopub.status.idle": "2024-09-04T12:37:43.206932Z",
     "shell.execute_reply": "2024-09-04T12:37:43.206556Z"
    }
   },
   "outputs": [
    {
     "name": "stdout",
     "output_type": "stream",
     "text": [
      "Summary Statistics for Numerical Columns:\n",
      "             MedInc      HouseAge      AveRooms     AveBedrms    Population  \\\n",
      "count  20640.000000  20640.000000  20640.000000  20640.000000  20640.000000   \n",
      "mean       3.870671     28.639486      5.429000      1.096675   1425.476744   \n",
      "std        1.899822     12.585558      2.474173      0.473911   1132.462122   \n",
      "min        0.499900      1.000000      0.846154      0.333333      3.000000   \n",
      "25%        2.563400     18.000000      4.440716      1.006079    787.000000   \n",
      "50%        3.534800     29.000000      5.229129      1.048780   1166.000000   \n",
      "75%        4.743250     37.000000      6.052381      1.099526   1725.000000   \n",
      "max       15.000100     52.000000    141.909091     34.066667  35682.000000   \n",
      "\n",
      "           AveOccup      Latitude     Longitude   MedHouseVal  \n",
      "count  20640.000000  20640.000000  20640.000000  20640.000000  \n",
      "mean       3.070655     35.631861   -119.569704      2.068558  \n",
      "std       10.386050      2.135952      2.003532      1.153956  \n",
      "min        0.692308     32.540000   -124.350000      0.149990  \n",
      "25%        2.429741     33.930000   -121.800000      1.196000  \n",
      "50%        2.818116     34.260000   -118.490000      1.797000  \n",
      "75%        3.282261     37.710000   -118.010000      2.647250  \n",
      "max     1243.333333     41.950000   -114.310000      5.000010  \n",
      "\n",
      "Missing Values in Each Column:\n",
      "MedInc         0\n",
      "HouseAge       0\n",
      "AveRooms       0\n",
      "AveBedrms      0\n",
      "Population     0\n",
      "AveOccup       0\n",
      "Latitude       0\n",
      "Longitude      0\n",
      "MedHouseVal    0\n",
      "dtype: int64\n",
      "\n",
      "Numerical Columns: ['MedInc', 'HouseAge', 'AveRooms', 'AveBedrms', 'Population', 'AveOccup', 'Latitude', 'Longitude', 'MedHouseVal']\n",
      "Categorical Columns: []\n"
     ]
    },
    {
     "name": "stdout",
     "output_type": "stream",
     "text": [
      "Image saved to: /Users/tuozhou/Desktop/RA/SZRI/ML_Assistant/data/output/image/correlation_matrix_1725453462.png\n"
     ]
    },
    {
     "data": {
      "text/plain": [
       "<Figure size 1200x800 with 0 Axes>"
      ]
     },
     "metadata": {},
     "output_type": "display_data"
    }
   ],
   "source": [
    "import numpy as np\n",
    "import pandas as pd\n",
    "import seaborn as sns\n",
    "import matplotlib.pyplot as plt\n",
    "from pathlib import Path\n",
    "import time\n",
    "from sklearn.datasets import fetch_california_housing\n",
    "\n",
    "# Load the California housing dataset\n",
    "housing = fetch_california_housing()\n",
    "housing_df = pd.DataFrame(housing.data, columns=housing.feature_names)\n",
    "housing_df['MedHouseVal'] = housing.target\n",
    "\n",
    "# Exploratory Data Analysis\n",
    "# 1. Summary statistics for numerical columns\n",
    "summary_stats = housing_df.describe()\n",
    "print(\"Summary Statistics for Numerical Columns:\")\n",
    "print(summary_stats)\n",
    "\n",
    "# 2. Check for missing values\n",
    "missing_values = housing_df.isnull().sum()\n",
    "print(\"\\nMissing Values in Each Column:\")\n",
    "print(missing_values)\n",
    "\n",
    "# 3. Distinguish column types\n",
    "numerical_columns = housing_df.select_dtypes(include=[np.number]).columns.tolist()\n",
    "categorical_columns = housing_df.select_dtypes(exclude=[np.number]).columns.tolist()\n",
    "print(\"\\nNumerical Columns:\", numerical_columns)\n",
    "print(\"Categorical Columns:\", categorical_columns)\n",
    "\n",
    "# 4. Correlation matrix for numerical columns\n",
    "correlation_matrix = housing_df.corr()\n",
    "\n",
    "# Save correlation matrix heatmap\n",
    "timestamp = int(time.time())\n",
    "save_dir = Path(\"/Users/tuozhou/Desktop/RA/SZRI/ML_Assistant/data/output/image\")\n",
    "save_dir.mkdir(parents=True, exist_ok=True)\n",
    "file_name = f'correlation_matrix_{timestamp}.png'\n",
    "file_path = save_dir / file_name\n",
    "plt.figure(figsize=(12, 8))\n",
    "sns.heatmap(correlation_matrix, annot=True, cmap='coolwarm', fmt='.2f')\n",
    "plt.title('Correlation Matrix')\n",
    "plt.savefig(file_path)\n",
    "plt.clf()\n",
    "print(f'Image saved to: {file_path}')"
   ]
  },
  {
   "cell_type": "code",
   "execution_count": 3,
   "id": "4b1e1591",
   "metadata": {
    "execution": {
     "iopub.execute_input": "2024-09-04T12:37:47.369869Z",
     "iopub.status.busy": "2024-09-04T12:37:47.369380Z",
     "iopub.status.idle": "2024-09-04T12:37:48.291772Z",
     "shell.execute_reply": "2024-09-04T12:37:48.291421Z"
    }
   },
   "outputs": [
    {
     "name": "stderr",
     "output_type": "stream",
     "text": [
      "2024-09-04 20:37:47.555 | INFO     | metagpt.const:get_metagpt_package_root:21 - Package root set to /Users/tuozhou/Desktop/RA/SZRI/ChatPilot\n"
     ]
    },
    {
     "name": "stdout",
     "output_type": "stream",
     "text": [
      "column_info\n",
      "{'Category': [], 'Numeric': ['MedInc', 'HouseAge', 'AveRooms', 'AveBedrms', 'Population', 'AveOccup', 'Latitude', 'Longitude', 'MedHouseVal'], 'Datetime': [], 'Others': []}\n"
     ]
    }
   ],
   "source": [
    "from metagpt.tools.libs.data_preprocess import get_column_info\n",
    "\n",
    "# Assuming 'housing_df' is the DataFrame variable from 'Finished Tasks'\n",
    "column_info = get_column_info(housing_df)\n",
    "print(\"column_info\")\n",
    "print(column_info)\n"
   ]
  },
  {
   "cell_type": "code",
   "execution_count": 4,
   "id": "10d34887",
   "metadata": {
    "execution": {
     "iopub.execute_input": "2024-09-04T12:37:55.606263Z",
     "iopub.status.busy": "2024-09-04T12:37:55.605264Z",
     "iopub.status.idle": "2024-09-04T12:37:55.939975Z",
     "shell.execute_reply": "2024-09-04T12:37:55.939538Z"
    }
   },
   "outputs": [
    {
     "name": "stdout",
     "output_type": "stream",
     "text": [
      "                            OLS Regression Results                            \n",
      "==============================================================================\n",
      "Dep. Variable:            MedHouseVal   R-squared:                       0.613\n",
      "Model:                            OLS   Adj. R-squared:                  0.612\n",
      "Method:                 Least Squares   F-statistic:                     3261.\n",
      "Date:                Wed, 04 Sep 2024   Prob (F-statistic):               0.00\n",
      "Time:                        20:37:55   Log-Likelihood:                -17998.\n",
      "No. Observations:               16512   AIC:                         3.601e+04\n",
      "Df Residuals:                   16503   BIC:                         3.608e+04\n",
      "Df Model:                           8                                         \n",
      "Covariance Type:            nonrobust                                         \n",
      "==============================================================================\n",
      "                 coef    std err          t      P>|t|      [0.025      0.975]\n",
      "------------------------------------------------------------------------------\n",
      "const        -37.0233      0.728    -50.835      0.000     -38.451     -35.596\n",
      "MedInc         0.4487      0.005     95.697      0.000       0.439       0.458\n",
      "HouseAge       0.0097      0.000     19.665      0.000       0.009       0.011\n",
      "AveRooms      -0.1233      0.007    -18.677      0.000      -0.136      -0.110\n",
      "AveBedrms      0.7831      0.033     23.556      0.000       0.718       0.848\n",
      "Population  -2.03e-06   5.25e-06     -0.387      0.699   -1.23e-05    8.26e-06\n",
      "AveOccup      -0.0035      0.000     -7.253      0.000      -0.004      -0.003\n",
      "Latitude      -0.4198      0.008    -52.767      0.000      -0.435      -0.404\n",
      "Longitude     -0.4337      0.008    -52.117      0.000      -0.450      -0.417\n",
      "==============================================================================\n",
      "Omnibus:                     3333.187   Durbin-Watson:                   1.962\n",
      "Prob(Omnibus):                  0.000   Jarque-Bera (JB):             9371.466\n",
      "Skew:                           1.071   Prob(JB):                         0.00\n",
      "Kurtosis:                       6.006   Cond. No.                     2.38e+05\n",
      "==============================================================================\n",
      "\n",
      "Notes:\n",
      "[1] Standard Errors assume that the covariance matrix of the errors is correctly specified.\n",
      "[2] The condition number is large, 2.38e+05. This might indicate that there are\n",
      "strong multicollinearity or other numerical problems.\n"
     ]
    }
   ],
   "source": [
    "from sklearn.model_selection import train_test_split\n",
    "from sklearn.linear_model import LinearRegression\n",
    "import statsmodels.api as sm\n",
    "\n",
    "# Splitting the data into training and testing sets\n",
    "X = housing_df.drop('MedHouseVal', axis=1)\n",
    "y = housing_df['MedHouseVal']\n",
    "X_train, X_test, y_train, y_test = train_test_split(X, y, test_size=0.2, random_state=42)\n",
    "\n",
    "# Adding a constant to the model (intercept)\n",
    "X_train_const = sm.add_constant(X_train)\n",
    "\n",
    "# Fitting the linear regression model\n",
    "model = sm.OLS(y_train, X_train_const).fit()\n",
    "\n",
    "# Getting the summary of the model\n",
    "summary = model.summary()\n",
    "\n",
    "# Printing the summary\n",
    "print(summary)\n",
    "\n",
    "# Discussing the economic results\n",
    "# The coefficients of the regression model provide insights into the relationship \n",
    "# between the features and the target variable (median house value). \n",
    "# For instance, the coefficient for 'MedInc' (Median Income) might be high, \n",
    "# indicating that an increase in median income is strongly associated with an \n",
    "# increase in house prices. Similarly, other coefficients would provide insights \n",
    "# into how other features affect house prices.\n",
    "\n",
    "# Note: For a more accurate economic interpretation, it is important to consider \n",
    "# the magnitude, sign, and statistical significance (p-values) of the coefficients \n",
    "# along with domain knowledge.\n"
   ]
  },
  {
   "cell_type": "code",
   "execution_count": 5,
   "id": "a252f319",
   "metadata": {
    "execution": {
     "iopub.execute_input": "2024-09-04T12:37:59.147067Z",
     "iopub.status.busy": "2024-09-04T12:37:59.146209Z",
     "iopub.status.idle": "2024-09-04T12:37:59.152824Z",
     "shell.execute_reply": "2024-09-04T12:37:59.151959Z"
    }
   },
   "outputs": [
    {
     "name": "stdout",
     "output_type": "stream",
     "text": [
      "column_info\n",
      "{'Category': [], 'Numeric': ['MedInc', 'HouseAge', 'AveRooms', 'AveBedrms', 'Population', 'AveOccup', 'Latitude', 'Longitude', 'MedHouseVal'], 'Datetime': [], 'Others': []}\n"
     ]
    }
   ],
   "source": [
    "from metagpt.tools.libs.data_preprocess import get_column_info\n",
    "\n",
    "# Assuming housing_df is the DataFrame variable from 'Finished Tasks'\n",
    "column_info = get_column_info(housing_df)\n",
    "print(\"column_info\")\n",
    "print(column_info)\n"
   ]
  },
  {
   "cell_type": "code",
   "execution_count": 6,
   "id": "17c5f831",
   "metadata": {
    "execution": {
     "iopub.execute_input": "2024-09-04T12:38:09.044916Z",
     "iopub.status.busy": "2024-09-04T12:38:09.044621Z",
     "iopub.status.idle": "2024-09-04T12:38:27.447166Z",
     "shell.execute_reply": "2024-09-04T12:38:27.446765Z"
    }
   },
   "outputs": [
    {
     "name": "stdout",
     "output_type": "stream",
     "text": [
      "Training MSE: 0.11935461834406613\n",
      "Testing MSE: 0.21870825346106096\n",
      "Training R^2: 0.9107147189478076\n",
      "Testing R^2: 0.8330992407006734\n",
      "Image saved to: /Users/tuozhou/Desktop/RA/SZRI/ML_Assistant/data/output/image/feature_importance_1725453507.png\n"
     ]
    },
    {
     "data": {
      "text/plain": [
       "<Figure size 1200x800 with 0 Axes>"
      ]
     },
     "metadata": {},
     "output_type": "display_data"
    }
   ],
   "source": [
    "# Import necessary libraries\n",
    "from sklearn.ensemble import GradientBoostingRegressor\n",
    "from sklearn.metrics import mean_squared_error, r2_score\n",
    "from sklearn.preprocessing import StandardScaler\n",
    "import numpy as np\n",
    "\n",
    "# Split the data into features and target variable\n",
    "X = housing_df.drop('MedHouseVal', axis=1)\n",
    "y = housing_df['MedHouseVal']\n",
    "\n",
    "# Standardize the features\n",
    "scaler = StandardScaler()\n",
    "X_scaled = scaler.fit_transform(X)\n",
    "\n",
    "# Split the data into training and testing sets\n",
    "X_train, X_test, y_train, y_test = train_test_split(X_scaled, y, test_size=0.2, random_state=42)\n",
    "\n",
    "# Train a Gradient Boosting Regressor model\n",
    "gbr = GradientBoostingRegressor(n_estimators=500, learning_rate=0.1, max_depth=4, random_state=42)\n",
    "gbr.fit(X_train, y_train)\n",
    "\n",
    "# Make predictions\n",
    "y_train_pred = gbr.predict(X_train)\n",
    "y_test_pred = gbr.predict(X_test)\n",
    "\n",
    "# Calculate performance metrics\n",
    "train_mse = mean_squared_error(y_train, y_train_pred)\n",
    "test_mse = mean_squared_error(y_test, y_test_pred)\n",
    "train_r2 = r2_score(y_train, y_train_pred)\n",
    "test_r2 = r2_score(y_test, y_test_pred)\n",
    "\n",
    "# Print performance metrics\n",
    "print(f\"Training MSE: {train_mse}\")\n",
    "print(f\"Testing MSE: {test_mse}\")\n",
    "print(f\"Training R^2: {train_r2}\")\n",
    "print(f\"Testing R^2: {test_r2}\")\n",
    "\n",
    "# Feature importance\n",
    "feature_importance = gbr.feature_importances_\n",
    "feature_names = X.columns\n",
    "importance_df = pd.DataFrame({'Feature': feature_names, 'Importance': feature_importance})\n",
    "importance_df = importance_df.sort_values(by='Importance', ascending=False)\n",
    "\n",
    "# Plot feature importance\n",
    "timestamp = int(time.time())\n",
    "save_dir = Path(\"/Users/tuozhou/Desktop/RA/SZRI/ML_Assistant/data/output/image\")\n",
    "save_dir.mkdir(parents=True, exist_ok=True)\n",
    "file_name = f'feature_importance_{timestamp}.png'\n",
    "file_path = save_dir / file_name\n",
    "\n",
    "plt.figure(figsize=(12, 8))\n",
    "sns.barplot(x='Importance', y='Feature', data=importance_df)\n",
    "plt.title('Feature Importance')\n",
    "plt.savefig(file_path)\n",
    "plt.clf()\n",
    "print(f'Image saved to: {file_path}')\n"
   ]
  },
  {
   "cell_type": "code",
   "execution_count": 7,
   "id": "5cd651af",
   "metadata": {
    "execution": {
     "iopub.execute_input": "2024-09-04T12:38:31.734523Z",
     "iopub.status.busy": "2024-09-04T12:38:31.734176Z",
     "iopub.status.idle": "2024-09-04T12:38:31.743352Z",
     "shell.execute_reply": "2024-09-04T12:38:31.742804Z"
    }
   },
   "outputs": [
    {
     "name": "stdout",
     "output_type": "stream",
     "text": [
      "Linear Regression Testing MSE: 1529.399378989649\n",
      "Linear Regression Testing R^2: -1166.1160716883392\n",
      "                            OLS Regression Results                            \n",
      "==============================================================================\n",
      "Dep. Variable:            MedHouseVal   R-squared:                       0.613\n",
      "Model:                            OLS   Adj. R-squared:                  0.612\n",
      "Method:                 Least Squares   F-statistic:                     3261.\n",
      "Date:                Wed, 04 Sep 2024   Prob (F-statistic):               0.00\n",
      "Time:                        20:37:55   Log-Likelihood:                -17998.\n",
      "No. Observations:               16512   AIC:                         3.601e+04\n",
      "Df Residuals:                   16503   BIC:                         3.608e+04\n",
      "Df Model:                           8                                         \n",
      "Covariance Type:            nonrobust                                         \n",
      "==============================================================================\n",
      "                 coef    std err          t      P>|t|      [0.025      0.975]\n",
      "------------------------------------------------------------------------------\n",
      "const        -37.0233      0.728    -50.835      0.000     -38.451     -35.596\n",
      "MedInc         0.4487      0.005     95.697      0.000       0.439       0.458\n",
      "HouseAge       0.0097      0.000     19.665      0.000       0.009       0.011\n",
      "AveRooms      -0.1233      0.007    -18.677      0.000      -0.136      -0.110\n",
      "AveBedrms      0.7831      0.033     23.556      0.000       0.718       0.848\n",
      "Population  -2.03e-06   5.25e-06     -0.387      0.699   -1.23e-05    8.26e-06\n",
      "AveOccup      -0.0035      0.000     -7.253      0.000      -0.004      -0.003\n",
      "Latitude      -0.4198      0.008    -52.767      0.000      -0.435      -0.404\n",
      "Longitude     -0.4337      0.008    -52.117      0.000      -0.450      -0.417\n",
      "==============================================================================\n",
      "Omnibus:                     3333.187   Durbin-Watson:                   1.962\n",
      "Prob(Omnibus):                  0.000   Jarque-Bera (JB):             9371.466\n",
      "Skew:                           1.071   Prob(JB):                         0.00\n",
      "Kurtosis:                       6.006   Cond. No.                     2.38e+05\n",
      "==============================================================================\n",
      "\n",
      "Notes:\n",
      "[1] Standard Errors assume that the covariance matrix of the errors is correctly specified.\n",
      "[2] The condition number is large, 2.38e+05. This might indicate that there are\n",
      "strong multicollinearity or other numerical problems.\n"
     ]
    }
   ],
   "source": [
    "# Evaluate the linear regression model on the test data\n",
    "X_test_const = sm.add_constant(X_test)\n",
    "y_pred = model.predict(X_test_const)\n",
    "\n",
    "# Calculate Mean Squared Error and R^2 score\n",
    "test_mse = mean_squared_error(y_test, y_pred)\n",
    "test_r2 = r2_score(y_test, y_pred)\n",
    "\n",
    "print(\"Linear Regression Testing MSE:\", test_mse)\n",
    "print(\"Linear Regression Testing R^2:\", test_r2)\n",
    "\n",
    "# Print the regression summary statistics table\n",
    "print(summary)\n"
   ]
  },
  {
   "cell_type": "code",
   "execution_count": 8,
   "id": "defefe82",
   "metadata": {
    "execution": {
     "iopub.execute_input": "2024-09-04T12:38:47.827484Z",
     "iopub.status.busy": "2024-09-04T12:38:47.826877Z",
     "iopub.status.idle": "2024-09-04T12:38:47.833005Z",
     "shell.execute_reply": "2024-09-04T12:38:47.832233Z"
    }
   },
   "outputs": [],
   "source": [
    "# Discussing the economic results based on the regression tables\n",
    "\n",
    "# The regression summary table provides us with several key pieces of information:\n",
    "# 1. Coefficients (coef): These represent the estimated change in the dependent variable (MedHouseVal) for a one-unit change in the predictor variable, holding all other predictors constant.\n",
    "# 2. Standard Errors (std err): These measure the average amount that the coefficient estimates vary from the actual average value of our response variable.\n",
    "# 3. t-values and P>|t|: These help us determine the significance of each predictor. A low p-value (< 0.05) indicates that we can reject the null hypothesis and conclude that the predictor is statistically significant.\n",
    "# 4. Confidence Intervals [0.025, 0.975]: These provide a range of values which are believed to contain the true value of the coefficient with a certain level of confidence (usually 95%).\n",
    "\n",
    "# Let's interpret the coefficients:\n",
    "# - MedInc (Median Income): The coefficient is 0.4487, which means that for every one-unit increase in median income, the median house value increases by approximately 0.4487 units, holding all other variables constant. This is highly significant (p-value < 0.000).\n",
    "# - HouseAge: The coefficient is 0.0097, indicating that older houses tend to have slightly higher values, though the effect is relatively small.\n",
    "# - AveRooms (Average Rooms per Dwelling): The coefficient is -0.1233, suggesting that an increase in the average number of rooms per dwelling is associated with a decrease in median house value. This might seem counterintuitive, but it could be due to multicollinearity or other underlying factors.\n",
    "# - AveBedrms (Average Bedrooms per Dwelling): The coefficient is 0.7831, indicating that more bedrooms per dwelling are associated with higher house values.\n",
    "# - Population: The coefficient is very close to zero and not statistically significant, suggesting that population size does not have a meaningful impact on house values in this model.\n",
    "# - AveOccup (Average Occupancy per Household): The coefficient is -0.0035, indicating that higher occupancy rates are associated with slightly lower house values.\n",
    "# - Latitude and Longitude: Both have negative coefficients, indicating that houses located further north and west tend to have lower values. This could be due to various regional economic factors.\n",
    "\n",
    "# Overall, the model explains about 61.3% of the variance in house prices (R-squared = 0.613), which is a decent fit for a linear regression model.\n",
    "\n",
    "# The Gradient Boosting Regressor (GBR) results show a much better fit with a training R^2 of 0.91 and a testing R^2 of 0.83, indicating that it captures the non-linear relationships in the data better than the linear model.\n",
    "\n",
    "# The feature importance from the GBR can provide additional insights into which features are most influential in predicting house prices.\n",
    "\n",
    "# Note: The negative R^2 value for the linear regression on the test set suggests that the model is performing poorly on unseen data, indicating potential overfitting or that a linear model is not suitable for this dataset.\n",
    "\n",
    "# The economic interpretation of these results should consider the context of the housing market in California, where factors like income, house age, and location play significant roles in determining house prices.\n"
   ]
  }
 ],
 "metadata": {},
 "nbformat": 4,
 "nbformat_minor": 5
}
